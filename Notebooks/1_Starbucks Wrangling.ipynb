{
 "cells": [
  {
   "cell_type": "markdown",
   "metadata": {},
   "source": [
    "# Starbucks Capstone Challenge\n",
    "\n",
    "## Part I: Data Wrangling\n",
    "\n",
    "### Introduction\n",
    "\n",
    "This data set contains simulated data that mimics customer behavior on the Starbucks rewards mobile app. Once every few days, Starbucks sends out an offer to users of the mobile app. An offer can be merely an advertisement for a drink or an actual offer such as a discount or BOGO (buy one get one free). Some users might not receive any offer during certain weeks. \n",
    "\n",
    "The goal of this capstone project is to **implement a coupon recommender system** for Starbucks Mobile Rewards App, which uses customers' historical reactions to offers as well as their purchase behavior to generate customer clusters and model the most suitable offer for each cluster.\n",
    "\n",
    "The challenge of **Part I: Data Wrangling** is that the provided transcript data set creates a new row for each interaction. Consequently, the first row will show the time a customer receives an offer. The next row will show the time when a customer views this or any other offer and the next row will show either the completion of an offer or a regular transaction. Furthermore, each customer can receive each offer multiple times or comlete an offer before he has seen it.\n",
    "\n",
    "Therefore, the **goal of the data wrangling part is to create a master dataframe** (`df_mab`), which shows the time and amount of each purchase as well as the time of contact, view, and completion of the offer that influenced the purchase in a single row. The master dataframe should also contain purchases without offer infuence and offers that were not completed.\n",
    "\n",
    "## Table of Content:\n",
    "[1 Import Packages and Load Data](#1-bullet) <br>\n",
    "[2 Editing Data](#2-bullet) <br>\n",
    "&emsp;[2.1 Editing Portfolio-Data](#2.1-bullet) <br>\n",
    "&emsp;[2.2 Editing Profile-Data](#2.2-bullet) <br>\n",
    "&emsp;[2.3 Editing Transcript-Data](#2.3-bullet) <br>\n",
    "[3 Creating a Master Dataframe for Offer-Interaction](#3-bullet) <br>\n",
    "&emsp;[3.1 Table with received offers](#3.1-bullet) <br>\n",
    "&emsp;[3.2 Table with viewed offers](#3.2-bullet) <br>\n",
    "&emsp;[3.3 Table with completed offers](#3.3-bullet) <br>\n",
    "&emsp;[3.4 Simplify combined Reaction-Dataframe](#3.4-bullet) <br>\n",
    "&emsp;[3.5 Include Transactions with Offer Influence](#3.5-bullet) <br>\n",
    "&emsp;[3.6 Include Transactions without Offer Influence](#3.6-bullet) <br>\n",
    "&emsp;[3.7 Calculate Performance Variable](#3.7-bullet) <br>\n",
    "&emsp;[3.8 Include Offers that did not have an Influence on Transactions](#3.8-bullet) <br>\n",
    "&emsp;[3.9 Create a Dataframe with a Summary for each User](#3.2-bullet) <br>\n",
    "[4 Verifying Results](#4-bullet) <br>\n"
   ]
  },
  {
   "cell_type": "markdown",
   "metadata": {},
   "source": [
    "## 1 Import Packages and Load Data<a class=\"anchor\" id=\"1-bullet\"></a>"
   ]
  },
  {
   "cell_type": "code",
   "execution_count": 1,
   "metadata": {},
   "outputs": [],
   "source": [
    "import pandas as pd\n",
    "import numpy as np\n",
    "import math\n",
    "import json\n",
    "import ast\n",
    "%matplotlib inline\n",
    "import matplotlib.pyplot as plt\n",
    "from datetime import datetime"
   ]
  },
  {
   "cell_type": "code",
   "execution_count": 2,
   "metadata": {},
   "outputs": [],
   "source": [
    "#read in the json files\n",
    "portfolio = pd.read_json('../data/portfolio.json', orient='records', lines=True)\n",
    "profile = pd.read_json('../data/profile.json', orient='records', lines=True)\n",
    "transcript = pd.read_json('../data/transcript.json', orient='records', lines=True)"
   ]
  },
  {
   "cell_type": "markdown",
   "metadata": {},
   "source": [
    "## 2 Editing Data <a class=\"anchor\" id=\"2-bullet\"></a>\n",
    "\n",
    "### 2.1 Editing Portfolio-Data <a class=\"anchor\" id=\"2.1-bullet\"></a>\n",
    "Portfolio Data contains offer ids and meta data about each offer (duration, type, etc.)\n",
    "- id (string) - offer id\n",
    "- offer_type (string) - type of offer ie BOGO, discount, informational\n",
    "- difficulty (int) - minimum required spend to complete an offer\n",
    "- reward (int) - reward given for completing an offer\n",
    "- duration (int) - time for offer to be open, in days\n",
    "- channels (list of strings)"
   ]
  },
  {
   "cell_type": "code",
   "execution_count": 3,
   "metadata": {},
   "outputs": [
    {
     "data": {
      "text/html": [
       "<div>\n",
       "<style scoped>\n",
       "    .dataframe tbody tr th:only-of-type {\n",
       "        vertical-align: middle;\n",
       "    }\n",
       "\n",
       "    .dataframe tbody tr th {\n",
       "        vertical-align: top;\n",
       "    }\n",
       "\n",
       "    .dataframe thead th {\n",
       "        text-align: right;\n",
       "    }\n",
       "</style>\n",
       "<table border=\"1\" class=\"dataframe\">\n",
       "  <thead>\n",
       "    <tr style=\"text-align: right;\">\n",
       "      <th></th>\n",
       "      <th>reward</th>\n",
       "      <th>channels</th>\n",
       "      <th>difficulty</th>\n",
       "      <th>duration</th>\n",
       "      <th>offer_type</th>\n",
       "      <th>id</th>\n",
       "    </tr>\n",
       "  </thead>\n",
       "  <tbody>\n",
       "    <tr>\n",
       "      <th>0</th>\n",
       "      <td>10</td>\n",
       "      <td>[email, mobile, social]</td>\n",
       "      <td>10</td>\n",
       "      <td>7</td>\n",
       "      <td>bogo</td>\n",
       "      <td>ae264e3637204a6fb9bb56bc8210ddfd</td>\n",
       "    </tr>\n",
       "  </tbody>\n",
       "</table>\n",
       "</div>"
      ],
      "text/plain": [
       "   reward                 channels  difficulty  duration offer_type  \\\n",
       "0      10  [email, mobile, social]          10         7       bogo   \n",
       "\n",
       "                                 id  \n",
       "0  ae264e3637204a6fb9bb56bc8210ddfd  "
      ]
     },
     "execution_count": 3,
     "metadata": {},
     "output_type": "execute_result"
    }
   ],
   "source": [
    "portfolio.head(1)"
   ]
  },
  {
   "cell_type": "markdown",
   "metadata": {},
   "source": [
    "Editing Steps:\n",
    "- Rename `id` as `offer_id`\n",
    "- Create `offer_name` based on `offer_type`, `difficulty`, `reward` and `duration`\n",
    "- Create Dummi-Variables for column `channels` \n",
    "- Create Dummi-Variables for column `offer_type` "
   ]
  },
  {
   "cell_type": "code",
   "execution_count": 5,
   "metadata": {
    "scrolled": true
   },
   "outputs": [
    {
     "name": "stdout",
     "output_type": "stream",
     "text": [
      "reward            int64\n",
      "difficulty        int64\n",
      "duration          int64\n",
      "offer_type       object\n",
      "offer_id         object\n",
      "offer_name       object\n",
      "email             int64\n",
      "mobile            int64\n",
      "social            int64\n",
      "web               int64\n",
      "bogo              uint8\n",
      "discount          uint8\n",
      "informational     uint8\n",
      "dtype: object\n"
     ]
    },
    {
     "name": "stderr",
     "output_type": "stream",
     "text": [
      "C:\\Users\\fisc313\\AppData\\Local\\Temp\\ipykernel_23780\\2575384851.py:11: FutureWarning: The default value of regex will change from True to False in a future version.\n",
      "  pf_channels = portfolio['channels'].astype(str).str.replace(r\"[\\[\\]']\", '')\\\n"
     ]
    },
    {
     "data": {
      "text/html": [
       "<div>\n",
       "<style scoped>\n",
       "    .dataframe tbody tr th:only-of-type {\n",
       "        vertical-align: middle;\n",
       "    }\n",
       "\n",
       "    .dataframe tbody tr th {\n",
       "        vertical-align: top;\n",
       "    }\n",
       "\n",
       "    .dataframe thead th {\n",
       "        text-align: right;\n",
       "    }\n",
       "</style>\n",
       "<table border=\"1\" class=\"dataframe\">\n",
       "  <thead>\n",
       "    <tr style=\"text-align: right;\">\n",
       "      <th></th>\n",
       "      <th>reward</th>\n",
       "      <th>difficulty</th>\n",
       "      <th>duration</th>\n",
       "      <th>offer_type</th>\n",
       "      <th>offer_id</th>\n",
       "      <th>offer_name</th>\n",
       "      <th>email</th>\n",
       "      <th>mobile</th>\n",
       "      <th>social</th>\n",
       "      <th>web</th>\n",
       "      <th>bogo</th>\n",
       "      <th>discount</th>\n",
       "      <th>informational</th>\n",
       "    </tr>\n",
       "  </thead>\n",
       "  <tbody>\n",
       "    <tr>\n",
       "      <th>0</th>\n",
       "      <td>5</td>\n",
       "      <td>5</td>\n",
       "      <td>5</td>\n",
       "      <td>bogo</td>\n",
       "      <td>f19421c1d4aa40978ebb69ca19b0e20d</td>\n",
       "      <td>bogo_df5_rw5_du5</td>\n",
       "      <td>1</td>\n",
       "      <td>1</td>\n",
       "      <td>1</td>\n",
       "      <td>1</td>\n",
       "      <td>1</td>\n",
       "      <td>0</td>\n",
       "      <td>0</td>\n",
       "    </tr>\n",
       "    <tr>\n",
       "      <th>1</th>\n",
       "      <td>5</td>\n",
       "      <td>5</td>\n",
       "      <td>7</td>\n",
       "      <td>bogo</td>\n",
       "      <td>9b98b8c7a33c4b65b9aebfe6a799e6d9</td>\n",
       "      <td>bogo_df5_rw5_du7</td>\n",
       "      <td>1</td>\n",
       "      <td>1</td>\n",
       "      <td>0</td>\n",
       "      <td>1</td>\n",
       "      <td>1</td>\n",
       "      <td>0</td>\n",
       "      <td>0</td>\n",
       "    </tr>\n",
       "    <tr>\n",
       "      <th>2</th>\n",
       "      <td>10</td>\n",
       "      <td>10</td>\n",
       "      <td>5</td>\n",
       "      <td>bogo</td>\n",
       "      <td>4d5c57ea9a6940dd891ad53e9dbe8da0</td>\n",
       "      <td>bogo_df10_rw10_du5</td>\n",
       "      <td>1</td>\n",
       "      <td>1</td>\n",
       "      <td>1</td>\n",
       "      <td>1</td>\n",
       "      <td>1</td>\n",
       "      <td>0</td>\n",
       "      <td>0</td>\n",
       "    </tr>\n",
       "    <tr>\n",
       "      <th>3</th>\n",
       "      <td>10</td>\n",
       "      <td>10</td>\n",
       "      <td>7</td>\n",
       "      <td>bogo</td>\n",
       "      <td>ae264e3637204a6fb9bb56bc8210ddfd</td>\n",
       "      <td>bogo_df10_rw10_du7</td>\n",
       "      <td>1</td>\n",
       "      <td>1</td>\n",
       "      <td>1</td>\n",
       "      <td>0</td>\n",
       "      <td>1</td>\n",
       "      <td>0</td>\n",
       "      <td>0</td>\n",
       "    </tr>\n",
       "    <tr>\n",
       "      <th>4</th>\n",
       "      <td>3</td>\n",
       "      <td>7</td>\n",
       "      <td>7</td>\n",
       "      <td>discount</td>\n",
       "      <td>2298d6c36e964ae4a3e7e9706d1fb8c2</td>\n",
       "      <td>disc_df7_rw3_du7</td>\n",
       "      <td>1</td>\n",
       "      <td>1</td>\n",
       "      <td>1</td>\n",
       "      <td>1</td>\n",
       "      <td>0</td>\n",
       "      <td>1</td>\n",
       "      <td>0</td>\n",
       "    </tr>\n",
       "    <tr>\n",
       "      <th>5</th>\n",
       "      <td>2</td>\n",
       "      <td>10</td>\n",
       "      <td>7</td>\n",
       "      <td>discount</td>\n",
       "      <td>2906b810c7d4411798c6938adc9daaa5</td>\n",
       "      <td>disc_df10_rw2_du7</td>\n",
       "      <td>1</td>\n",
       "      <td>1</td>\n",
       "      <td>0</td>\n",
       "      <td>1</td>\n",
       "      <td>0</td>\n",
       "      <td>1</td>\n",
       "      <td>0</td>\n",
       "    </tr>\n",
       "    <tr>\n",
       "      <th>6</th>\n",
       "      <td>2</td>\n",
       "      <td>10</td>\n",
       "      <td>10</td>\n",
       "      <td>discount</td>\n",
       "      <td>fafdcd668e3743c1bb461111dcafc2a4</td>\n",
       "      <td>disc_df10_rw2_du10</td>\n",
       "      <td>1</td>\n",
       "      <td>1</td>\n",
       "      <td>1</td>\n",
       "      <td>1</td>\n",
       "      <td>0</td>\n",
       "      <td>1</td>\n",
       "      <td>0</td>\n",
       "    </tr>\n",
       "    <tr>\n",
       "      <th>7</th>\n",
       "      <td>5</td>\n",
       "      <td>20</td>\n",
       "      <td>10</td>\n",
       "      <td>discount</td>\n",
       "      <td>0b1e1539f2cc45b7b9fa7c272da2e1d7</td>\n",
       "      <td>disc_df20_rw5_du10</td>\n",
       "      <td>1</td>\n",
       "      <td>0</td>\n",
       "      <td>0</td>\n",
       "      <td>1</td>\n",
       "      <td>0</td>\n",
       "      <td>1</td>\n",
       "      <td>0</td>\n",
       "    </tr>\n",
       "    <tr>\n",
       "      <th>8</th>\n",
       "      <td>0</td>\n",
       "      <td>0</td>\n",
       "      <td>3</td>\n",
       "      <td>informational</td>\n",
       "      <td>5a8bc65990b245e5a138643cd4eb9837</td>\n",
       "      <td>info_df0_rw0_du3</td>\n",
       "      <td>1</td>\n",
       "      <td>1</td>\n",
       "      <td>1</td>\n",
       "      <td>0</td>\n",
       "      <td>0</td>\n",
       "      <td>0</td>\n",
       "      <td>1</td>\n",
       "    </tr>\n",
       "    <tr>\n",
       "      <th>9</th>\n",
       "      <td>0</td>\n",
       "      <td>0</td>\n",
       "      <td>4</td>\n",
       "      <td>informational</td>\n",
       "      <td>3f207df678b143eea3cee63160fa8bed</td>\n",
       "      <td>info_df0_rw0_du4</td>\n",
       "      <td>1</td>\n",
       "      <td>1</td>\n",
       "      <td>0</td>\n",
       "      <td>1</td>\n",
       "      <td>0</td>\n",
       "      <td>0</td>\n",
       "      <td>1</td>\n",
       "    </tr>\n",
       "  </tbody>\n",
       "</table>\n",
       "</div>"
      ],
      "text/plain": [
       "   reward  difficulty  duration     offer_type  \\\n",
       "0       5           5         5           bogo   \n",
       "1       5           5         7           bogo   \n",
       "2      10          10         5           bogo   \n",
       "3      10          10         7           bogo   \n",
       "4       3           7         7       discount   \n",
       "5       2          10         7       discount   \n",
       "6       2          10        10       discount   \n",
       "7       5          20        10       discount   \n",
       "8       0           0         3  informational   \n",
       "9       0           0         4  informational   \n",
       "\n",
       "                           offer_id          offer_name  email  mobile  \\\n",
       "0  f19421c1d4aa40978ebb69ca19b0e20d    bogo_df5_rw5_du5      1       1   \n",
       "1  9b98b8c7a33c4b65b9aebfe6a799e6d9    bogo_df5_rw5_du7      1       1   \n",
       "2  4d5c57ea9a6940dd891ad53e9dbe8da0  bogo_df10_rw10_du5      1       1   \n",
       "3  ae264e3637204a6fb9bb56bc8210ddfd  bogo_df10_rw10_du7      1       1   \n",
       "4  2298d6c36e964ae4a3e7e9706d1fb8c2    disc_df7_rw3_du7      1       1   \n",
       "5  2906b810c7d4411798c6938adc9daaa5   disc_df10_rw2_du7      1       1   \n",
       "6  fafdcd668e3743c1bb461111dcafc2a4  disc_df10_rw2_du10      1       1   \n",
       "7  0b1e1539f2cc45b7b9fa7c272da2e1d7  disc_df20_rw5_du10      1       0   \n",
       "8  5a8bc65990b245e5a138643cd4eb9837    info_df0_rw0_du3      1       1   \n",
       "9  3f207df678b143eea3cee63160fa8bed    info_df0_rw0_du4      1       1   \n",
       "\n",
       "   social  web  bogo  discount  informational  \n",
       "0       1    1     1         0              0  \n",
       "1       0    1     1         0              0  \n",
       "2       1    1     1         0              0  \n",
       "3       1    0     1         0              0  \n",
       "4       1    1     0         1              0  \n",
       "5       0    1     0         1              0  \n",
       "6       1    1     0         1              0  \n",
       "7       0    1     0         1              0  \n",
       "8       1    0     0         0              1  \n",
       "9       0    1     0         0              1  "
      ]
     },
     "execution_count": 5,
     "metadata": {},
     "output_type": "execute_result"
    }
   ],
   "source": [
    "# rename id as offer_id\n",
    "portfolio = portfolio.rename({'id': 'offer_id'}, axis = 1)\n",
    "\n",
    "#create offer names\n",
    "portfolio['offer_name'] = portfolio['offer_type'].str[:4] \\\n",
    "                            + '_df' + portfolio['difficulty'].astype(str) \\\n",
    "                            + '_rw' + portfolio['reward'].astype(str) \\\n",
    "                            + '_du' + portfolio['duration'].astype(str)\n",
    "\n",
    "# convert channels to dummies\n",
    "pf_channels = portfolio['channels'].astype(str).str.replace(r\"[\\[\\]']\", '')\\\n",
    "                                               .str.get_dummies(sep=', ')\n",
    "\n",
    "# merge channel-dummies to df\n",
    "if not 'email' in portfolio.columns:\n",
    "    portfolio = pd.concat([portfolio, pf_channels], axis=1)\n",
    "portfolio = portfolio.drop('channels', axis = 1)\n",
    "\n",
    "#create dummies from offer type\n",
    "portfolio['offer_type2'] = portfolio['offer_type']\n",
    "portfolio = pd.get_dummies(portfolio, prefix = '', prefix_sep = '', columns=['offer_type2'])\n",
    "\n",
    "portfolio = portfolio.sort_values(by = ['offer_type','difficulty','reward','duration'], ascending = True)\\\n",
    "                     .reset_index(drop = True)\n",
    "\n",
    "print(portfolio.dtypes)\n",
    "portfolio.head(15)"
   ]
  },
  {
   "cell_type": "markdown",
   "metadata": {},
   "source": [
    "### 2.2 Editing Profile-Data  <a class=\"anchor\" id=\"2.2-bullet\"></a>\n",
    "Profile Data contains demographic data for each customer.\n",
    "\n",
    "- gender (str) - gender of the customer (note some entries contain 'O' for other rather than M or F)\n",
    "- age (int) - age of the customer\n",
    "- id (str) - customer id\n",
    "- became_member_on (int) - date when customer created an app account\n",
    "- income (float) - customer's income"
   ]
  },
  {
   "cell_type": "code",
   "execution_count": 6,
   "metadata": {
    "scrolled": true
   },
   "outputs": [
    {
     "data": {
      "text/html": [
       "<div>\n",
       "<style scoped>\n",
       "    .dataframe tbody tr th:only-of-type {\n",
       "        vertical-align: middle;\n",
       "    }\n",
       "\n",
       "    .dataframe tbody tr th {\n",
       "        vertical-align: top;\n",
       "    }\n",
       "\n",
       "    .dataframe thead th {\n",
       "        text-align: right;\n",
       "    }\n",
       "</style>\n",
       "<table border=\"1\" class=\"dataframe\">\n",
       "  <thead>\n",
       "    <tr style=\"text-align: right;\">\n",
       "      <th></th>\n",
       "      <th>gender</th>\n",
       "      <th>age</th>\n",
       "      <th>id</th>\n",
       "      <th>became_member_on</th>\n",
       "      <th>income</th>\n",
       "    </tr>\n",
       "  </thead>\n",
       "  <tbody>\n",
       "    <tr>\n",
       "      <th>0</th>\n",
       "      <td>None</td>\n",
       "      <td>118</td>\n",
       "      <td>68be06ca386d4c31939f3a4f0e3dd783</td>\n",
       "      <td>20170212</td>\n",
       "      <td>NaN</td>\n",
       "    </tr>\n",
       "  </tbody>\n",
       "</table>\n",
       "</div>"
      ],
      "text/plain": [
       "  gender  age                                id  became_member_on  income\n",
       "0   None  118  68be06ca386d4c31939f3a4f0e3dd783          20170212     NaN"
      ]
     },
     "execution_count": 6,
     "metadata": {},
     "output_type": "execute_result"
    }
   ],
   "source": [
    "profile.head(1)"
   ]
  },
  {
   "cell_type": "markdown",
   "metadata": {},
   "source": [
    "Editing Steps:\n",
    "- Rename `id` as `member_id` \n",
    "- Converting `age`==118 to 'NaN'\n",
    "- Converting `became_member_on` to a date"
   ]
  },
  {
   "cell_type": "code",
   "execution_count": 7,
   "metadata": {
    "scrolled": true
   },
   "outputs": [
    {
     "name": "stdout",
     "output_type": "stream",
     "text": [
      "gender                      object\n",
      "age                        float64\n",
      "member_id                   object\n",
      "became_member_on             int64\n",
      "income                     float64\n",
      "reg_dt              datetime64[ns]\n",
      "days_reg                     int64\n",
      "dtype: object\n"
     ]
    },
    {
     "data": {
      "text/html": [
       "<div>\n",
       "<style scoped>\n",
       "    .dataframe tbody tr th:only-of-type {\n",
       "        vertical-align: middle;\n",
       "    }\n",
       "\n",
       "    .dataframe tbody tr th {\n",
       "        vertical-align: top;\n",
       "    }\n",
       "\n",
       "    .dataframe thead th {\n",
       "        text-align: right;\n",
       "    }\n",
       "</style>\n",
       "<table border=\"1\" class=\"dataframe\">\n",
       "  <thead>\n",
       "    <tr style=\"text-align: right;\">\n",
       "      <th></th>\n",
       "      <th>gender</th>\n",
       "      <th>age</th>\n",
       "      <th>member_id</th>\n",
       "      <th>became_member_on</th>\n",
       "      <th>income</th>\n",
       "      <th>reg_dt</th>\n",
       "      <th>days_reg</th>\n",
       "    </tr>\n",
       "  </thead>\n",
       "  <tbody>\n",
       "    <tr>\n",
       "      <th>0</th>\n",
       "      <td>None</td>\n",
       "      <td>NaN</td>\n",
       "      <td>68be06ca386d4c31939f3a4f0e3dd783</td>\n",
       "      <td>20170212</td>\n",
       "      <td>NaN</td>\n",
       "      <td>2017-02-12</td>\n",
       "      <td>530</td>\n",
       "    </tr>\n",
       "    <tr>\n",
       "      <th>1</th>\n",
       "      <td>F</td>\n",
       "      <td>55.0</td>\n",
       "      <td>0610b486422d4921ae7d2bf64640c50b</td>\n",
       "      <td>20170715</td>\n",
       "      <td>112000.0</td>\n",
       "      <td>2017-07-15</td>\n",
       "      <td>377</td>\n",
       "    </tr>\n",
       "  </tbody>\n",
       "</table>\n",
       "</div>"
      ],
      "text/plain": [
       "  gender   age                         member_id  became_member_on    income  \\\n",
       "0   None   NaN  68be06ca386d4c31939f3a4f0e3dd783          20170212       NaN   \n",
       "1      F  55.0  0610b486422d4921ae7d2bf64640c50b          20170715  112000.0   \n",
       "\n",
       "      reg_dt  days_reg  \n",
       "0 2017-02-12       530  \n",
       "1 2017-07-15       377  "
      ]
     },
     "execution_count": 7,
     "metadata": {},
     "output_type": "execute_result"
    }
   ],
   "source": [
    "#rename id as member_id\n",
    "profile = profile.rename({'id': 'member_id'}, axis = 1)\n",
    "\n",
    "#convert age = 118 to NaN\n",
    "profile['age'] = profile['age'].apply(lambda x: np.nan if x == float(118) else float(x))\n",
    "\n",
    "#calculate registration date\n",
    "profile['reg_dt'] = pd.to_datetime(profile['became_member_on'], format='%Y%m%d')\n",
    "\n",
    "#calculate days since registration (assuming todays date is '2018-07-27')\n",
    "profile['days_reg'] = (datetime(2018,7,27) - profile['reg_dt']).dt.days\n",
    "\n",
    "print(profile.dtypes)\n",
    "profile.head(2)"
   ]
  },
  {
   "cell_type": "markdown",
   "metadata": {},
   "source": [
    "### 2.3 Editing Transcript-Data <a class=\"anchor\" id=\"2.3-bullet\"></a>\n",
    "Trascript Data contains records for transactions, offers received, offers viewed, and offers completed.\n",
    "- person (str) - customer id\n",
    "- event (str) - record description (ie transaction, offer received, offer viewed, etc.)\n",
    "- value - (dict of strings) - either an offer id or transaction amount depending on the record\n",
    "- time (int) - time in hours since start of test. The data begins at time t=0"
   ]
  },
  {
   "cell_type": "code",
   "execution_count": 8,
   "metadata": {
    "scrolled": true
   },
   "outputs": [
    {
     "data": {
      "text/html": [
       "<div>\n",
       "<style scoped>\n",
       "    .dataframe tbody tr th:only-of-type {\n",
       "        vertical-align: middle;\n",
       "    }\n",
       "\n",
       "    .dataframe tbody tr th {\n",
       "        vertical-align: top;\n",
       "    }\n",
       "\n",
       "    .dataframe thead th {\n",
       "        text-align: right;\n",
       "    }\n",
       "</style>\n",
       "<table border=\"1\" class=\"dataframe\">\n",
       "  <thead>\n",
       "    <tr style=\"text-align: right;\">\n",
       "      <th></th>\n",
       "      <th>person</th>\n",
       "      <th>event</th>\n",
       "      <th>value</th>\n",
       "      <th>time</th>\n",
       "    </tr>\n",
       "  </thead>\n",
       "  <tbody>\n",
       "    <tr>\n",
       "      <th>0</th>\n",
       "      <td>78afa995795e4d85b5d9ceeca43f5fef</td>\n",
       "      <td>offer received</td>\n",
       "      <td>{'offer id': '9b98b8c7a33c4b65b9aebfe6a799e6d9'}</td>\n",
       "      <td>0</td>\n",
       "    </tr>\n",
       "  </tbody>\n",
       "</table>\n",
       "</div>"
      ],
      "text/plain": [
       "                             person           event  \\\n",
       "0  78afa995795e4d85b5d9ceeca43f5fef  offer received   \n",
       "\n",
       "                                              value  time  \n",
       "0  {'offer id': '9b98b8c7a33c4b65b9aebfe6a799e6d9'}     0  "
      ]
     },
     "execution_count": 8,
     "metadata": {},
     "output_type": "execute_result"
    }
   ],
   "source": [
    "transcript.head(1)"
   ]
  },
  {
   "cell_type": "markdown",
   "metadata": {},
   "source": [
    "Editing Steps:\n",
    "- Rename `person` as `member_id` \n",
    "- Converting `value`-dictionary to individual columns"
   ]
  },
  {
   "cell_type": "code",
   "execution_count": null,
   "metadata": {
    "scrolled": true
   },
   "outputs": [
    {
     "name": "stdout",
     "output_type": "stream",
     "text": [
      "Number Rows: 306534\n",
      "Unique Members: 17000\n",
      "NULLs per Column: \n",
      "member_id    0\n",
      "event        0\n",
      "value        0\n",
      "time         0\n",
      "dtype: int64\n",
      "Values of Event Column: ['offer received' 'offer viewed' 'transaction' 'offer completed']\n"
     ]
    }
   ],
   "source": [
    "#rename person as member_id\n",
    "transcript = transcript.rename({'person': 'member_id'}, axis = 1)\n",
    "\n",
    "#check columns of dataset\n",
    "print('Number Rows: ' + str(len(transcript)))\n",
    "print('Unique Members: ' + str(transcript['member_id'].nunique()))\n",
    "print('NULLs per Column: ')\n",
    "print(np.sum(transcript.isna()))\n",
    "print('Values of Event Column: ' + str(transcript['event'].explode().unique()))\n",
    "\n",
    "#convert value-dictionary to individual columns\n",
    "transcript['value'] = transcript['value'].astype(str).str.replace('r i', 'r_i')\n",
    "transcript['value'] = transcript['value'].apply(lambda x: ast.literal_eval(x))\n",
    "transcript = pd.concat([transcript.drop(['value'], axis=1), transcript['value'].apply(pd.Series)], axis=1)\n",
    "\n",
    "#view transcript of one member\n",
    "transcript[transcript['member_id'] == 'ffff82501cea40309d5fdd7edcca4a07']"
   ]
  },
  {
   "cell_type": "markdown",
   "metadata": {},
   "source": [
    "## 3 Creating a Master Dataframe for Offer-Interaction<a class=\"anchor\" id=\"3-bullet\"></a>\n",
    "Instead of listing each interaction with an offer in a new row, the relevant information should be found in only one row.\n",
    "\n",
    "### 3.1 Table with received offers<a class=\"anchor\" id=\"3.1-bullet\"></a>"
   ]
  },
  {
   "cell_type": "code",
   "execution_count": null,
   "metadata": {
    "scrolled": true
   },
   "outputs": [],
   "source": [
    "#Dataframe of received offers\n",
    "rec_offer = transcript[transcript['event'] == 'offer received']\n",
    "rec_offer = rec_offer.drop(['amount','reward'], axis = 1)\n",
    "\n",
    "#Merge offer information on received offers\n",
    "if not 'offer_type' in rec_offer.columns:\n",
    "    rec_offer = pd.merge(rec_offer, portfolio, on = 'offer_id', how = 'left')\n",
    "    print('Merge completed')\n",
    "\n",
    "#create a rank per member and coupon\n",
    "rec_offer['offer_rnk'] = rec_offer.sort_values(['time'], ascending=[True]) \\\n",
    "                           .groupby(['member_id','offer_id']) \\\n",
    "                           .cumcount() + 1\n",
    "\n",
    "#calculate ending date of offer\n",
    "rec_offer['offer_valid_to'] = rec_offer['time'] + (rec_offer['duration'] * 24)"
   ]
  },
  {
   "cell_type": "markdown",
   "metadata": {},
   "source": [
    "### 3.2 Table with viewed offers <a class=\"anchor\" id=\"3.2-bullet\"></a>"
   ]
  },
  {
   "cell_type": "code",
   "execution_count": null,
   "metadata": {
    "scrolled": true
   },
   "outputs": [],
   "source": [
    "#Dataframe of viewed offers\n",
    "view_offer = transcript[transcript['event'] == 'offer viewed']\n",
    "view_offer = view_offer.drop(['event','amount','reward'], axis = 1)\n",
    "view_offer = view_offer.rename({'time': 'time_viewed'}, axis = 1)\n",
    "\n",
    "#Merge viewed offers with recieved offers\n",
    "offer_react = pd.DataFrame()\n",
    "if not 'offer_viewed' in offer_react.columns:\n",
    "    offer_react = pd.merge(rec_offer, view_offer, on = ['offer_id','member_id'], how = 'left')\n",
    "    print('Merge completed')\n",
    "    \n",
    "#include only rows where view_time is between rceived_time and offer_valid_to\n",
    "#NaNs should be included as well\n",
    "offer_react['valid_viewed'] = np.where(offer_react['time_viewed'].isnull(), 1, None)\n",
    "offer_react['valid_viewed'] = np.where((offer_react['offer_valid_to'] >= offer_react['time_viewed']) \\\n",
    "                                       & (offer_react['time'] <= offer_react['time_viewed']), 1, offer_react['valid_viewed'])\n",
    "offer_react['valid_viewed'] = offer_react['valid_viewed'].fillna(0)\n",
    "\n",
    "#create a rank per member and coupon\n",
    "offer_react['viewed_rnk'] = offer_react.sort_values(['valid_viewed'], ascending=[False]) \\\n",
    "                           .groupby(['member_id','offer_id','time']) \\\n",
    "                           .cumcount() + 1\n",
    "\n",
    "offer_react['time_viewed_valid'] = np.where((offer_react['valid_viewed'] == 0) & (offer_react['viewed_rnk'] == 1), np.NaN, offer_react['time_viewed'])\n",
    "\n",
    "offer_react = offer_react[ ((offer_react['valid_viewed'] == 1) & (offer_react['viewed_rnk'] == 1) ) | ((offer_react['viewed_rnk'] == 1))]"
   ]
  },
  {
   "cell_type": "markdown",
   "metadata": {},
   "source": [
    "### 3.3 Table with completed offers <a class=\"anchor\" id=\"3.3-bullet\"></a>"
   ]
  },
  {
   "cell_type": "code",
   "execution_count": null,
   "metadata": {
    "scrolled": true
   },
   "outputs": [],
   "source": [
    "#Dataframe of viewed offers\n",
    "compl_offer = transcript[transcript['event'] == 'offer completed']\n",
    "compl_offer = compl_offer.drop(['event','amount','reward'], axis = 1)\n",
    "compl_offer = compl_offer.rename({'time': 'time_compl'}, axis = 1)\n",
    "\n",
    "#Merge completed offers with recieved offers\n",
    "if not 'time_compl' in offer_react.columns:\n",
    "    offer_react = pd.merge(offer_react, compl_offer, on = ['offer_id','member_id'], how = 'left')\n",
    "    print('Merge completed')\n",
    "    \n",
    "#include only rows where time_compl is between received_time and offer_valid_to\n",
    "#NaNs should be included as well\n",
    "offer_react['valid_compl'] = np.where(offer_react['time_compl'].isnull(), 1, None)\n",
    "offer_react['valid_compl'] = np.where((offer_react['offer_valid_to'] >= offer_react['time_compl']) \\\n",
    "                                       & (offer_react['time'] <= offer_react['time_compl']), 1, offer_react['valid_compl'])\n",
    "offer_react['valid_compl'] = offer_react['valid_compl'].fillna(0)\n",
    "\n",
    "#create a rank per member and coupon\n",
    "offer_react['compl_rnk'] = offer_react.sort_values(['valid_compl'], ascending=[False]) \\\n",
    "                                      .groupby(['member_id','offer_id','time']) \\\n",
    "                                      .cumcount() + 1\n",
    "\n",
    "offer_react['time_comp_valid'] = np.where((offer_react['valid_compl'] == 0) & (offer_react['compl_rnk'] == 1), np.NaN, offer_react['time_compl'])\n",
    "\n",
    "#only keep valid rows\n",
    "offer_react = offer_react[ ((offer_react['valid_compl'] == 1) & (offer_react['compl_rnk'] == 1) ) \\\n",
    "                          | ((offer_react['compl_rnk'] == 1))]"
   ]
  },
  {
   "cell_type": "markdown",
   "metadata": {},
   "source": [
    "### 3.4 Simplify combined Reaction-Dataframe <a class=\"anchor\" id=\"3.4-bullet\"></a>"
   ]
  },
  {
   "cell_type": "code",
   "execution_count": null,
   "metadata": {},
   "outputs": [],
   "source": [
    "pd.set_option('display.max_columns', None)\n",
    "\n",
    "#drop unnecessary columns\n",
    "reaction = offer_react.copy()\n",
    "reaction = reaction.drop(['event','offer_rnk','time_viewed','valid_viewed','viewed_rnk','time_compl','valid_compl','compl_rnk'], axis = 1)\n",
    "#rename columns\n",
    "reaction = reaction.rename({'time': 'time_rec','time_viewed_valid': 'time_viewed', 'time_comp_valid': 'time_compl'}, axis = 1)\n",
    "\n",
    "#create dummy variable for offer influence: \n",
    "#1 = 'the offer had an influence on a transaction'\n",
    "#0 = 'no influence'\n",
    "#an offer must be completed and viewed befor completion to have an influnence\n",
    "#exception: informational offer types only have to be viewed to have an influence\n",
    "reaction['offer_incluence'] = np.where(reaction['time_compl']>=reaction['time_viewed'], 1, np.NaN)\n",
    "reaction['offer_incluence'] = np.where(reaction['time_viewed'].isnull(), 0, reaction['offer_incluence'])\n",
    "reaction['offer_incluence'] = np.where(reaction['time_compl'].isnull(), 0, reaction['offer_incluence'])\n",
    "reaction['offer_incluence'] = np.where((reaction['offer_type'] == 'informational') & (reaction['time_viewed']>=0 ), 1, reaction['offer_incluence'])\n",
    "reaction['offer_incluence'] = reaction['offer_incluence'].fillna(0)\n",
    "\n",
    "#create further variables\n",
    "reaction['viewed'] = np.where(reaction['time_viewed'] >= reaction['time_rec'], 1, 0)\n",
    "reaction['hours_viewed'] = np.where(reaction['viewed'] == 1, reaction['time_viewed'] - reaction['time_rec'], np.NaN)\n",
    "reaction['hours_compl'] = np.where(reaction['offer_incluence'] == 1, reaction['time_compl'] - reaction['time_viewed'], np.NaN)\n",
    "reaction['completed'] = np.where(reaction['hours_compl'].isnull(), 0, 1)"
   ]
  },
  {
   "cell_type": "markdown",
   "metadata": {},
   "source": [
    "### 3.5 Include Transactions with Offer Influence  <a class=\"anchor\" id=\"3.5-bullet\"></a>\n",
    "So far, the reaction dataframe contains all received offers for each customer. In the next step, regular transactions will be merged with the offer reactions. However, due to the data structure at first only transactions that are influenced by an offer can be merged. Transactions without offer influence have to be merged in a separate step."
   ]
  },
  {
   "cell_type": "code",
   "execution_count": null,
   "metadata": {},
   "outputs": [],
   "source": [
    "#Dataframe of transactions\n",
    "transaction = transcript[transcript['event'] == 'transaction']\n",
    "transaction = transaction.drop(['event','offer_id','reward'], axis = 1)\n",
    "\n",
    "#Create Sub-Dataframe of reation, that only holds offers with an influence on transactions\n",
    "#reaction['offer_incluence']: offers that have an influence on transactions\n",
    "r = reaction[['member_id','time_rec','offer_name','viewed','time_viewed','hours_viewed','completed','time_compl','hours_compl','offer_valid_to','bogo','discount','informational','reward','difficulty','duration']]\\\n",
    "            [reaction['offer_incluence']==1]\n",
    "r['offer_end'] = np.where(r['time_compl'].isnull(),r['offer_valid_to'],r['time_compl'])\n",
    "\n",
    "#Merge influential offers with transactions\n",
    "if not 'time_compl' in transaction.columns:\n",
    "    transaction = pd.merge(transaction, r, on = ['member_id'], how = 'left')\n",
    "    print('Merge completed')\n",
    "\n",
    "#Calculate new offer influence column for transactions   \n",
    "#transaction['offer_influence']: transactions that are influenced by an offer\n",
    "transaction['offer_influence'] = 0 \n",
    "transaction['offer_influence'] = np.where((transaction['time'] <= transaction['offer_end']) & (transaction['time'] >= transaction['time_viewed']), 1, transaction['offer_influence'])\n",
    "\n",
    "#drop rows without offer influence\n",
    "transaction['valid'] = np.where((transaction['offer_influence'] == 1),1,np.NaN)\n",
    "transaction = transaction[transaction['valid']==1]\n",
    "\n",
    "#What is the influential offer type?\n",
    "transaction['bogo'] = np.where(transaction['offer_influence'] == 0, 0, transaction['bogo'])\n",
    "transaction['discount'] = np.where(transaction['offer_influence'] == 0, 0, transaction['discount'])\n",
    "transaction['informational'] = np.where(transaction['offer_influence'] == 0, 0, transaction['informational'])\n",
    "\n",
    "#Offer type 'informational' should be 'completed' if a transaction occured during its validity period\n",
    "transaction['completed'] = np.where(transaction['informational']==1,1,transaction['completed'])\n",
    "transaction['time_compl'] = np.where(transaction['informational']==1,transaction['time'],transaction['time_compl'])\n",
    "transaction['hours_compl'] = np.where(transaction['informational']==1,transaction['time_compl']-transaction['time_viewed'],transaction['hours_compl'])"
   ]
  },
  {
   "cell_type": "markdown",
   "metadata": {},
   "source": [
    "### 3.6 Include Transactions without Offer Influence <a class=\"anchor\" id=\"3.6-bullet\"></a>"
   ]
  },
  {
   "cell_type": "code",
   "execution_count": null,
   "metadata": {},
   "outputs": [],
   "source": [
    "#Dataframe of transactions\n",
    "transaction_fin = transcript[transcript['event'] == 'transaction']\n",
    "transaction_fin = transaction_fin.drop(['event','offer_id','reward'], axis = 1)\n",
    "\n",
    "#Merge influenced transactions with all transactions\n",
    "if not 'time_compl' in transaction_fin.columns:\n",
    "    transaction_fin = pd.merge(transaction_fin, transaction, on = ['member_id','time','amount'], how = 'left')\n",
    "    print('Merge completed')\n",
    "transaction_fin.sort_values(by = ['member_id','time'], ascending = True).head(20)\n",
    "\n",
    "#adapt columns for transaction without coupon offer\n",
    "transaction_fin['offer_transaction'] = np.where(transaction_fin['offer_name'].isnull(),'without_offer','with_offer')\n",
    "transaction_fin['offer_name'] = np.where(transaction_fin['offer_name'].isnull(),'No_offer',transaction_fin['offer_name'])\n",
    "transaction_fin['viewed'] = np.where(transaction_fin['offer_name']=='No_offer',1,transaction_fin['viewed'])\n",
    "transaction_fin['completed'] = np.where(transaction_fin['offer_name']=='No_offer',1,transaction_fin['completed'])\n",
    "transaction_fin['bogo'] = transaction_fin['bogo'].fillna(0)\n",
    "transaction_fin['discount'] = transaction_fin['discount'].fillna(0)\n",
    "transaction_fin['informational'] = transaction_fin['informational'].fillna(0)\n",
    "transaction_fin['reward'] = transaction_fin['reward'].fillna(0)\n",
    "transaction_fin['difficulty'] = transaction_fin['difficulty'].fillna(0)\n",
    "transaction_fin['duration'] = transaction_fin['duration'].fillna(1)\n",
    "transaction_fin['time_rec'] = transaction_fin['time_rec'].fillna(transaction_fin['time'])\n",
    "\n",
    "#create a rank per member, coupon, and rec_dt\n",
    "transaction_fin['offer_compl_rnk'] = transaction_fin.sort_values(['time'], ascending=[True]) \\\n",
    "                                                    .groupby(['member_id','offer_name','time_rec']) \\\n",
    "                                                    .cumcount() + 1\n",
    "transaction_fin['offer_compl_rnk'] = np.where(transaction_fin['offer_name']=='No_offer',0,transaction_fin['offer_compl_rnk'])\n",
    "transaction_fin['offer_compl_rnk'] = np.where(transaction_fin['offer_compl_rnk']>=2,0,transaction_fin['offer_compl_rnk'])\n",
    "\n",
    "#informational offers\n",
    "transaction_fin['hours_compl'] = np.where((transaction_fin['informational']==1) & (transaction_fin['offer_compl_rnk'] == 0), np.nan, transaction_fin['hours_compl'])\n",
    "transaction_fin['offer_influence'] = np.where((transaction_fin['informational']==1) & (transaction_fin['offer_compl_rnk'] == 0), np.nan, transaction_fin['offer_influence'])\n",
    "transaction_fin['valid'] = np.where((transaction_fin['informational']==1) & (transaction_fin['offer_compl_rnk'] == 0), np.nan, transaction_fin['valid'])\n",
    "transaction_fin['hours_compl'] = np.where((transaction_fin['informational']==1) & (transaction_fin['offer_compl_rnk'] == 0), np.nan, transaction_fin['hours_compl'])\n",
    "transaction_fin['completed'] = np.where((transaction_fin['informational']==1) & (transaction_fin['offer_compl_rnk'] == 0), 0, transaction_fin['completed'])\n",
    "transaction_fin['offer_transaction'] = np.where((transaction_fin['informational']==1) & (transaction_fin['offer_compl_rnk'] == 0), 'without_offer', transaction_fin['offer_transaction'])\n",
    "transaction_fin['offer_name'] = np.where((transaction_fin['informational']==1) & (transaction_fin['offer_compl_rnk'] == 0), 'No_offer', transaction_fin['offer_name'])\n",
    "\n",
    "#Was the following transaction made with or without an offer?\n",
    "transaction_fin['next_transaction'] = transaction_fin.groupby(['member_id'])['offer_transaction'].shift(-1)\n",
    "transaction_fin['next_transaction_num'] = np.where(transaction_fin['next_transaction'] == 'without_offer',1,0)\n",
    "transaction_fin['next_transaction_num'] = np.where(transaction_fin['next_transaction'] == 'with_offer',1,transaction_fin['next_transaction_num'])\n",
    "\n",
    "#How many hours have past since the last transaction?\n",
    "transaction_fin['last_transaction_time_diff'] = transaction_fin['time'] - transaction_fin.groupby(['member_id'])['time'].shift(1)\n",
    "transaction_fin['last_transaction_time_diff'] = transaction_fin['last_transaction_time_diff'].fillna(999)\n",
    "transaction_fin['last_transaction_time_diff'] = np.where(transaction_fin['last_transaction_time_diff'] <=12,12, transaction_fin['last_transaction_time_diff'])\n",
    "\n",
    "#Wat was the mean amout of the 3 transactions before? And what is the difference to the current transaction amount?\n",
    "transaction_fin['mean_amount'] = round(transaction_fin.groupby('member_id')['amount'].transform(lambda x: x.rolling(3, 1).mean()),2)\n",
    "transaction_fin['last_transactions_amount_diff'] = transaction_fin['mean_amount'] - transaction_fin.groupby(['member_id'])['mean_amount'].shift(1)\n",
    "transaction_fin['last_transactions_amount_diff'] = transaction_fin['last_transactions_amount_diff'].fillna(0)\n",
    "transaction_fin['last_transactions_amount_diff'] = np.where(transaction_fin['last_transactions_amount_diff'] >=3,3, transaction_fin['last_transactions_amount_diff'])\n",
    "transaction_fin['last_transactions_amount_diff'] = np.where(transaction_fin['last_transactions_amount_diff'] <=-3,-3, transaction_fin['last_transactions_amount_diff'])\n",
    "\n",
    "#How is the relation between the reward a user receives with offer completion and the offers' difficulty?\n",
    "transaction_fin['costs'] = np.where(transaction_fin['difficulty'] > 0, transaction_fin['reward']/transaction_fin['difficulty'],0)"
   ]
  },
  {
   "cell_type": "markdown",
   "metadata": {},
   "source": [
    "### 3.7 Calculate Performance Variable <a class=\"anchor\" id=\"3.7-bullet\"></a>\n",
    "The performance variable will be the target variable that should be optimized in the multi-armed bandit model. It will be calculated as followed: \n",
    "* 3 Points if amount of current transaction is higher than average of the last 3 transactions\n",
    "* 1 Point if next transaction is made\n",
    "* 1 Point if time until next transaction is <= 48 (Median of last_transaction_time_diff: 48 hours = 2 days) \n",
    "* 1 Point of Offer is completed within 48 hours\n",
    "\n",
    "Minimum Performance is 0 and maximum Performance is 4"
   ]
  },
  {
   "cell_type": "code",
   "execution_count": 23,
   "metadata": {},
   "outputs": [],
   "source": [
    "# 3 Points if amount of current transaction is higher than average of the last 3 transactions\n",
    "transaction_fin['performance'] = np.where(transaction_fin['last_transactions_amount_diff'] > 0, 3, 0)\n",
    "# 1 Point if next transaction is made with an offer\n",
    "transaction_fin['performance'] = transaction_fin['performance'] + transaction_fin['next_transaction_num']\n",
    "# 1 Point of Offer is completed within 48 hours\n",
    "transaction_fin['performance'] = transaction_fin['performance'] + np.where((transaction_fin['hours_compl'] >= 0) & (transaction_fin['hours_compl'] <= 48), 1, 0)\n",
    "# 1 Point if time until next transaction is <= 48 (Median of last_transaction_time_diff: 48 hours = 2 days) \n",
    "transaction_fin['performance'] = transaction_fin['performance'] + np.where(transaction_fin['last_transaction_time_diff'] <= 48, 1, 0)\n",
    "#maximum performance should be 4\n",
    "transaction_fin['performance'] = np.where(transaction_fin['performance']==4, 3, transaction_fin['performance'])\n",
    "transaction_fin['performance'] = np.where(transaction_fin['performance']>=5, 4, transaction_fin['performance'])\n",
    "\n",
    "# (minus costs: transaction_fin['reward']/transaction_fin['difficulty'])\n",
    "#transaction_fin['performance'] = np.where(transaction_fin['performance']>=transaction_fin['costs']\\\n",
    "#                                          ,transaction_fin['performance'] - transaction_fin['costs']\\\n",
    "#                                          ,transaction_fin['performance'])"
   ]
  },
  {
   "cell_type": "markdown",
   "metadata": {},
   "source": [
    "### 3.8 Include Offers that did not have an Influence on Transactions <a class=\"anchor\" id=\"3.8-bullet\"></a>"
   ]
  },
  {
   "cell_type": "code",
   "execution_count": null,
   "metadata": {},
   "outputs": [],
   "source": [
    "#get distinct influential offers from transaction dataframe\n",
    "used = transaction_fin[['member_id','time_rec','offer_name']][transaction_fin['offer_name'] != 'No_offer'].copy()\n",
    "used.drop_duplicates(inplace=True)\n",
    "used['used']=1\n",
    "\n",
    "#merge them with all offers\n",
    "not_used = reaction[['member_id','time_rec','offer_name','viewed','time_viewed','hours_viewed','completed','time_compl','hours_compl','offer_valid_to','bogo','discount','informational','reward','difficulty','duration']]\n",
    "if not 'used' in not_used.columns:\n",
    "    not_used = pd.merge(not_used, used, on = ['member_id','time_rec','offer_name'], how = 'left')\n",
    "    print('Merge durchgeführt')\n",
    "    \n",
    "#delete rows that where in transaction dataframe as well as offers that were not viewed\n",
    "not_used = not_used[(not_used['used'] != 1) & (not_used['viewed']==1)]\n",
    "not_used = not_used.rename({'time_rec': 'time'}, axis = 1)\n",
    "not_used['amount'] = 0\n",
    "\n",
    "#create a rank per member and not used coupon\n",
    "not_used['NU_offer_rnk'] = not_used.sort_values(['time'], ascending=[True]) \\\n",
    "                           .groupby(['member_id','offer_name']) \\\n",
    "                           .cumcount() + 1\n",
    "\n",
    "#if rank = 1 then performance = 1 else perfomance = 0, to give the not used offer a better chance to be tried a second time\n",
    "not_used['performance'] = np.where(not_used['NU_offer_rnk'] == 1,1,0)\n",
    "not_used = not_used[['member_id','time','amount','offer_name','viewed','completed','performance','bogo','discount','informational','reward','difficulty','duration']]\n",
    "\n",
    "#create master dataframe\n",
    "df_mab = transaction_fin[['member_id','time','amount','offer_name','viewed','completed','offer_compl_rnk','performance','bogo','discount','informational','reward','difficulty','duration']]\n",
    "df_mab = pd.concat([df_mab, not_used])"
   ]
  },
  {
   "cell_type": "markdown",
   "metadata": {},
   "source": [
    "### 3.9 Create a Dataframe with a Summary for each User  <a class=\"anchor\" id=\"3.9-bullet\"></a>"
   ]
  },
  {
   "cell_type": "code",
   "execution_count": null,
   "metadata": {},
   "outputs": [],
   "source": [
    "#aggregate transactional data by user\n",
    "df_member = transaction_fin.groupby(['member_id'])\\\n",
    "                           .aggregate({'completed': ['sum'],\\\n",
    "                                       'offer_influence': ['sum'],\\\n",
    "                                       'amount': ['sum','median','std'],\\\n",
    "                                       'offer_compl_rnk': ['sum'],\\\n",
    "                                       'bogo': ['sum'],\\\n",
    "                                       'discount': ['sum'],\\\n",
    "                                       'informational': ['sum'],\\\n",
    "                                       'hours_compl': ['mean']})\\\n",
    "                           .reset_index()\n",
    "df_member.columns = ['member_id', 'nr_purch','nr_purch_offer','amount_sum','amount_median','amount_std','compl_offers','used_bogo','used_disc','used_info','mean_hrs_compl']\n",
    "\n",
    "#aggregate offers that were not used by the user\n",
    "agg_not_used =     not_used.groupby(['member_id'])\\\n",
    "                           .aggregate({'offer_name': ['count','nunique'],\\\n",
    "                                       'viewed': ['sum'],\\\n",
    "                                       'bogo': ['sum'],\\\n",
    "                                       'discount': ['sum'],\\\n",
    "                                       'informational': ['sum']})\\\n",
    "                           .reset_index()\n",
    "agg_not_used.columns = ['member_id','nr_NUO','nr_dist_NUO','sum_viewed_NUO','nr_bogo_NUO','nr_disc_NUO','nr_info_NUO']\n",
    "\n",
    "#Merge not used offers on df_member\n",
    "if not 'nr_NUO' in df_member.columns:\n",
    "    df_member = pd.merge(df_member, agg_not_used, on = 'member_id', how = 'left')\n",
    "    print('Merge 1 completed')\n",
    "\n",
    "#Merge days since registration on df_member\n",
    "if not 'days_reg' in df_member.columns:\n",
    "    df_member = pd.merge(df_member, profile[['member_id','days_reg']], on = 'member_id', how = 'left')\n",
    "    print('Merge 2 completed')"
   ]
  },
  {
   "cell_type": "markdown",
   "metadata": {},
   "source": [
    "## 4 Verifying Results  <a class=\"anchor\" id=\"4-bullet\"></a>"
   ]
  },
  {
   "cell_type": "markdown",
   "metadata": {},
   "source": [
    "Compare original input dataframe with final master dataframes:"
   ]
  },
  {
   "cell_type": "code",
   "execution_count": null,
   "metadata": {
    "scrolled": true
   },
   "outputs": [],
   "source": [
    "transcript[transcript['member_id'] == 'fff3ba4757bd42088c044ca26d73817a']"
   ]
  },
  {
   "cell_type": "code",
   "execution_count": null,
   "metadata": {},
   "outputs": [],
   "source": [
    "df_mab[df_mab['member_id'] == 'fff3ba4757bd42088c044ca26d73817a']"
   ]
  },
  {
   "cell_type": "code",
   "execution_count": null,
   "metadata": {},
   "outputs": [],
   "source": [
    "df_member[df_member['member_id'] == 'fff3ba4757bd42088c044ca26d73817a']"
   ]
  },
  {
   "cell_type": "markdown",
   "metadata": {},
   "source": [
    "**Comment:** The original `transcript` shows that the user received and comleted the offer *'bogo_df5_rw5_du7'*. However, in the final `df_map` this offer is listed as not completed. Since the user completed the offer before he/she viewed it, the final dataframe does not consider the offer as infuential and the trasaction at the time 168 is categorised as *'No_offer'*-influence. During the hour 336 the user received a *'info_df0_rw0_du3'* offer which he/she never viewed and with the hour 408 he/she received a *'disc_df10_rw2_du7'* offer which was completed but never viewed. Because both offers were not viewed by the customer, they listed in the final dataframe at all. The recommendation system should only consider the performance of offers that have been viewed by the customers."
   ]
  },
  {
   "cell_type": "code",
   "execution_count": null,
   "metadata": {},
   "outputs": [],
   "source": [
    "#save dataframe\n",
    "df_member.to_csv('../data/df_member.csv', sep='\\t', index=False)\n",
    "df_mab.to_csv('./data/df_mab.csv', sep='\\t', index=False)"
   ]
  },
  {
   "cell_type": "code",
   "execution_count": null,
   "metadata": {},
   "outputs": [],
   "source": []
  },
  {
   "cell_type": "code",
   "execution_count": null,
   "metadata": {},
   "outputs": [],
   "source": []
  }
 ],
 "metadata": {
  "kernelspec": {
   "display_name": "Python 3 (ipykernel)",
   "language": "python",
   "name": "python3"
  },
  "language_info": {
   "codemirror_mode": {
    "name": "ipython",
    "version": 3
   },
   "file_extension": ".py",
   "mimetype": "text/x-python",
   "name": "python",
   "nbconvert_exporter": "python",
   "pygments_lexer": "ipython3",
   "version": "3.9.12"
  }
 },
 "nbformat": 4,
 "nbformat_minor": 2
}
