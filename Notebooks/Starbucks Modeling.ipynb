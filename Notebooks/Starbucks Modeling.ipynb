{
 "cells": [
  {
   "cell_type": "markdown",
   "id": "d40b406e",
   "metadata": {},
   "source": [
    "# Starbucks Capstone Challenge\n",
    "\n",
    "## Part III: Modeling\n",
    "\n",
    "## Table of Content\n",
    "[1 Import Packages and Load Data](#1-bullet) <br>\n",
    "[2 Perform FunkSVD](#2-bullet) <br>\n",
    "[3 K-Means Clustering](#3-bullet) <br>\n",
    "[4 Multi Armed Bandit](#4-bullet) <br>\n",
    "&emsp;[4.1 MAB Simulation](#4.1-bullet) <br>\n",
    "&emsp;[4.2 MAB Test](#4.2-bullet) <br>"
   ]
  },
  {
   "cell_type": "markdown",
   "id": "cb2fc78f",
   "metadata": {},
   "source": [
    "## 1 Import Packages and Load Data<a class=\"anchor\" id=\"1-bullet\"></a>"
   ]
  },
  {
   "cell_type": "code",
   "execution_count": 1,
   "id": "dcf59814",
   "metadata": {},
   "outputs": [],
   "source": [
    "import pandas as pd\n",
    "import numpy as np\n",
    "%matplotlib inline\n",
    "import matplotlib.pyplot as plt\n",
    "\n",
    "#clustering\n",
    "from sklearn.model_selection import ShuffleSplit\n",
    "from sklearn.cluster import KMeans\n",
    "from sklearn.metrics import silhouette_samples, silhouette_score  \n",
    "import os\n",
    "\n",
    "from mab import *\n",
    "from tqdm import tqdm\n",
    "import seaborn as sns"
   ]
  },
  {
   "cell_type": "code",
   "execution_count": 2,
   "id": "539d3467",
   "metadata": {},
   "outputs": [],
   "source": [
    "df_member = pd.read_csv('../data/df_member.csv', sep='\\t')\n",
    "df_mab = pd.read_csv('../data/df_mab.csv', sep='\\t')"
   ]
  },
  {
   "cell_type": "markdown",
   "id": "2088f3af",
   "metadata": {},
   "source": [
    "##  2 Perform FunkSVD <a class=\"anchor\" id=\"2-bullet\"></a>"
   ]
  },
  {
   "cell_type": "code",
   "execution_count": 3,
   "id": "1c7c504b",
   "metadata": {},
   "outputs": [
    {
     "data": {
      "text/html": [
       "<div>\n",
       "<style scoped>\n",
       "    .dataframe tbody tr th:only-of-type {\n",
       "        vertical-align: middle;\n",
       "    }\n",
       "\n",
       "    .dataframe tbody tr th {\n",
       "        vertical-align: top;\n",
       "    }\n",
       "\n",
       "    .dataframe thead th {\n",
       "        text-align: right;\n",
       "    }\n",
       "</style>\n",
       "<table border=\"1\" class=\"dataframe\">\n",
       "  <thead>\n",
       "    <tr style=\"text-align: right;\">\n",
       "      <th>offer_name</th>\n",
       "      <th>No_offer</th>\n",
       "      <th>bogo_df10_rw10_du5</th>\n",
       "      <th>bogo_df10_rw10_du7</th>\n",
       "      <th>bogo_df5_rw5_du5</th>\n",
       "      <th>bogo_df5_rw5_du7</th>\n",
       "      <th>disc_df10_rw2_du10</th>\n",
       "      <th>disc_df10_rw2_du7</th>\n",
       "      <th>disc_df20_rw5_du10</th>\n",
       "      <th>disc_df7_rw3_du7</th>\n",
       "      <th>info_df0_rw0_du3</th>\n",
       "      <th>info_df0_rw0_du4</th>\n",
       "    </tr>\n",
       "    <tr>\n",
       "      <th>member_id</th>\n",
       "      <th></th>\n",
       "      <th></th>\n",
       "      <th></th>\n",
       "      <th></th>\n",
       "      <th></th>\n",
       "      <th></th>\n",
       "      <th></th>\n",
       "      <th></th>\n",
       "      <th></th>\n",
       "      <th></th>\n",
       "      <th></th>\n",
       "    </tr>\n",
       "  </thead>\n",
       "  <tbody>\n",
       "    <tr>\n",
       "      <th>0009655768c64bdeb2e877511632db8f</th>\n",
       "      <td>2.50</td>\n",
       "      <td>NaN</td>\n",
       "      <td>NaN</td>\n",
       "      <td>1.0</td>\n",
       "      <td>NaN</td>\n",
       "      <td>1.00</td>\n",
       "      <td>NaN</td>\n",
       "      <td>NaN</td>\n",
       "      <td>NaN</td>\n",
       "      <td>2.0</td>\n",
       "      <td>2.0</td>\n",
       "    </tr>\n",
       "    <tr>\n",
       "      <th>00116118485d4dfda04fdbaba9a87b5c</th>\n",
       "      <td>1.67</td>\n",
       "      <td>NaN</td>\n",
       "      <td>NaN</td>\n",
       "      <td>0.5</td>\n",
       "      <td>NaN</td>\n",
       "      <td>NaN</td>\n",
       "      <td>NaN</td>\n",
       "      <td>NaN</td>\n",
       "      <td>NaN</td>\n",
       "      <td>NaN</td>\n",
       "      <td>NaN</td>\n",
       "    </tr>\n",
       "    <tr>\n",
       "      <th>0011e0d4e6b944f998e987f904e8c1e5</th>\n",
       "      <td>1.67</td>\n",
       "      <td>NaN</td>\n",
       "      <td>NaN</td>\n",
       "      <td>NaN</td>\n",
       "      <td>4.0</td>\n",
       "      <td>NaN</td>\n",
       "      <td>NaN</td>\n",
       "      <td>3.0</td>\n",
       "      <td>1.0</td>\n",
       "      <td>1.0</td>\n",
       "      <td>1.0</td>\n",
       "    </tr>\n",
       "    <tr>\n",
       "      <th>0020c2b971eb4e9188eac86d93036a77</th>\n",
       "      <td>3.17</td>\n",
       "      <td>1.0</td>\n",
       "      <td>NaN</td>\n",
       "      <td>NaN</td>\n",
       "      <td>NaN</td>\n",
       "      <td>2.00</td>\n",
       "      <td>NaN</td>\n",
       "      <td>NaN</td>\n",
       "      <td>NaN</td>\n",
       "      <td>NaN</td>\n",
       "      <td>NaN</td>\n",
       "    </tr>\n",
       "    <tr>\n",
       "      <th>0020ccbbb6d84e358d3414a3ff76cffd</th>\n",
       "      <td>2.38</td>\n",
       "      <td>NaN</td>\n",
       "      <td>NaN</td>\n",
       "      <td>4.0</td>\n",
       "      <td>2.0</td>\n",
       "      <td>NaN</td>\n",
       "      <td>NaN</td>\n",
       "      <td>NaN</td>\n",
       "      <td>1.0</td>\n",
       "      <td>4.0</td>\n",
       "      <td>NaN</td>\n",
       "    </tr>\n",
       "    <tr>\n",
       "      <th>...</th>\n",
       "      <td>...</td>\n",
       "      <td>...</td>\n",
       "      <td>...</td>\n",
       "      <td>...</td>\n",
       "      <td>...</td>\n",
       "      <td>...</td>\n",
       "      <td>...</td>\n",
       "      <td>...</td>\n",
       "      <td>...</td>\n",
       "      <td>...</td>\n",
       "      <td>...</td>\n",
       "    </tr>\n",
       "    <tr>\n",
       "      <th>fff3ba4757bd42088c044ca26d73817a</th>\n",
       "      <td>2.00</td>\n",
       "      <td>NaN</td>\n",
       "      <td>NaN</td>\n",
       "      <td>NaN</td>\n",
       "      <td>1.0</td>\n",
       "      <td>2.00</td>\n",
       "      <td>NaN</td>\n",
       "      <td>NaN</td>\n",
       "      <td>NaN</td>\n",
       "      <td>4.0</td>\n",
       "      <td>NaN</td>\n",
       "    </tr>\n",
       "    <tr>\n",
       "      <th>fff7576017104bcc8677a8d63322b5e1</th>\n",
       "      <td>0.50</td>\n",
       "      <td>1.0</td>\n",
       "      <td>1.0</td>\n",
       "      <td>NaN</td>\n",
       "      <td>NaN</td>\n",
       "      <td>2.25</td>\n",
       "      <td>NaN</td>\n",
       "      <td>NaN</td>\n",
       "      <td>NaN</td>\n",
       "      <td>NaN</td>\n",
       "      <td>NaN</td>\n",
       "    </tr>\n",
       "    <tr>\n",
       "      <th>fff8957ea8b240a6b5e634b6ee8eafcf</th>\n",
       "      <td>1.80</td>\n",
       "      <td>1.0</td>\n",
       "      <td>NaN</td>\n",
       "      <td>NaN</td>\n",
       "      <td>NaN</td>\n",
       "      <td>1.00</td>\n",
       "      <td>NaN</td>\n",
       "      <td>NaN</td>\n",
       "      <td>NaN</td>\n",
       "      <td>NaN</td>\n",
       "      <td>NaN</td>\n",
       "    </tr>\n",
       "    <tr>\n",
       "      <th>fffad4f4828548d1b5583907f2e9906b</th>\n",
       "      <td>2.44</td>\n",
       "      <td>NaN</td>\n",
       "      <td>NaN</td>\n",
       "      <td>3.0</td>\n",
       "      <td>1.0</td>\n",
       "      <td>NaN</td>\n",
       "      <td>NaN</td>\n",
       "      <td>NaN</td>\n",
       "      <td>NaN</td>\n",
       "      <td>4.0</td>\n",
       "      <td>NaN</td>\n",
       "    </tr>\n",
       "    <tr>\n",
       "      <th>ffff82501cea40309d5fdd7edcca4a07</th>\n",
       "      <td>3.12</td>\n",
       "      <td>NaN</td>\n",
       "      <td>NaN</td>\n",
       "      <td>NaN</td>\n",
       "      <td>1.0</td>\n",
       "      <td>1.00</td>\n",
       "      <td>1.5</td>\n",
       "      <td>4.0</td>\n",
       "      <td>NaN</td>\n",
       "      <td>NaN</td>\n",
       "      <td>NaN</td>\n",
       "    </tr>\n",
       "  </tbody>\n",
       "</table>\n",
       "<p>16990 rows × 11 columns</p>\n",
       "</div>"
      ],
      "text/plain": [
       "offer_name                        No_offer  bogo_df10_rw10_du5  \\\n",
       "member_id                                                        \n",
       "0009655768c64bdeb2e877511632db8f      2.50                 NaN   \n",
       "00116118485d4dfda04fdbaba9a87b5c      1.67                 NaN   \n",
       "0011e0d4e6b944f998e987f904e8c1e5      1.67                 NaN   \n",
       "0020c2b971eb4e9188eac86d93036a77      3.17                 1.0   \n",
       "0020ccbbb6d84e358d3414a3ff76cffd      2.38                 NaN   \n",
       "...                                    ...                 ...   \n",
       "fff3ba4757bd42088c044ca26d73817a      2.00                 NaN   \n",
       "fff7576017104bcc8677a8d63322b5e1      0.50                 1.0   \n",
       "fff8957ea8b240a6b5e634b6ee8eafcf      1.80                 1.0   \n",
       "fffad4f4828548d1b5583907f2e9906b      2.44                 NaN   \n",
       "ffff82501cea40309d5fdd7edcca4a07      3.12                 NaN   \n",
       "\n",
       "offer_name                        bogo_df10_rw10_du7  bogo_df5_rw5_du5  \\\n",
       "member_id                                                                \n",
       "0009655768c64bdeb2e877511632db8f                 NaN               1.0   \n",
       "00116118485d4dfda04fdbaba9a87b5c                 NaN               0.5   \n",
       "0011e0d4e6b944f998e987f904e8c1e5                 NaN               NaN   \n",
       "0020c2b971eb4e9188eac86d93036a77                 NaN               NaN   \n",
       "0020ccbbb6d84e358d3414a3ff76cffd                 NaN               4.0   \n",
       "...                                              ...               ...   \n",
       "fff3ba4757bd42088c044ca26d73817a                 NaN               NaN   \n",
       "fff7576017104bcc8677a8d63322b5e1                 1.0               NaN   \n",
       "fff8957ea8b240a6b5e634b6ee8eafcf                 NaN               NaN   \n",
       "fffad4f4828548d1b5583907f2e9906b                 NaN               3.0   \n",
       "ffff82501cea40309d5fdd7edcca4a07                 NaN               NaN   \n",
       "\n",
       "offer_name                        bogo_df5_rw5_du7  disc_df10_rw2_du10  \\\n",
       "member_id                                                                \n",
       "0009655768c64bdeb2e877511632db8f               NaN                1.00   \n",
       "00116118485d4dfda04fdbaba9a87b5c               NaN                 NaN   \n",
       "0011e0d4e6b944f998e987f904e8c1e5               4.0                 NaN   \n",
       "0020c2b971eb4e9188eac86d93036a77               NaN                2.00   \n",
       "0020ccbbb6d84e358d3414a3ff76cffd               2.0                 NaN   \n",
       "...                                            ...                 ...   \n",
       "fff3ba4757bd42088c044ca26d73817a               1.0                2.00   \n",
       "fff7576017104bcc8677a8d63322b5e1               NaN                2.25   \n",
       "fff8957ea8b240a6b5e634b6ee8eafcf               NaN                1.00   \n",
       "fffad4f4828548d1b5583907f2e9906b               1.0                 NaN   \n",
       "ffff82501cea40309d5fdd7edcca4a07               1.0                1.00   \n",
       "\n",
       "offer_name                        disc_df10_rw2_du7  disc_df20_rw5_du10  \\\n",
       "member_id                                                                 \n",
       "0009655768c64bdeb2e877511632db8f                NaN                 NaN   \n",
       "00116118485d4dfda04fdbaba9a87b5c                NaN                 NaN   \n",
       "0011e0d4e6b944f998e987f904e8c1e5                NaN                 3.0   \n",
       "0020c2b971eb4e9188eac86d93036a77                NaN                 NaN   \n",
       "0020ccbbb6d84e358d3414a3ff76cffd                NaN                 NaN   \n",
       "...                                             ...                 ...   \n",
       "fff3ba4757bd42088c044ca26d73817a                NaN                 NaN   \n",
       "fff7576017104bcc8677a8d63322b5e1                NaN                 NaN   \n",
       "fff8957ea8b240a6b5e634b6ee8eafcf                NaN                 NaN   \n",
       "fffad4f4828548d1b5583907f2e9906b                NaN                 NaN   \n",
       "ffff82501cea40309d5fdd7edcca4a07                1.5                 4.0   \n",
       "\n",
       "offer_name                        disc_df7_rw3_du7  info_df0_rw0_du3  \\\n",
       "member_id                                                              \n",
       "0009655768c64bdeb2e877511632db8f               NaN               2.0   \n",
       "00116118485d4dfda04fdbaba9a87b5c               NaN               NaN   \n",
       "0011e0d4e6b944f998e987f904e8c1e5               1.0               1.0   \n",
       "0020c2b971eb4e9188eac86d93036a77               NaN               NaN   \n",
       "0020ccbbb6d84e358d3414a3ff76cffd               1.0               4.0   \n",
       "...                                            ...               ...   \n",
       "fff3ba4757bd42088c044ca26d73817a               NaN               4.0   \n",
       "fff7576017104bcc8677a8d63322b5e1               NaN               NaN   \n",
       "fff8957ea8b240a6b5e634b6ee8eafcf               NaN               NaN   \n",
       "fffad4f4828548d1b5583907f2e9906b               NaN               4.0   \n",
       "ffff82501cea40309d5fdd7edcca4a07               NaN               NaN   \n",
       "\n",
       "offer_name                        info_df0_rw0_du4  \n",
       "member_id                                           \n",
       "0009655768c64bdeb2e877511632db8f               2.0  \n",
       "00116118485d4dfda04fdbaba9a87b5c               NaN  \n",
       "0011e0d4e6b944f998e987f904e8c1e5               1.0  \n",
       "0020c2b971eb4e9188eac86d93036a77               NaN  \n",
       "0020ccbbb6d84e358d3414a3ff76cffd               NaN  \n",
       "...                                            ...  \n",
       "fff3ba4757bd42088c044ca26d73817a               NaN  \n",
       "fff7576017104bcc8677a8d63322b5e1               NaN  \n",
       "fff8957ea8b240a6b5e634b6ee8eafcf               NaN  \n",
       "fffad4f4828548d1b5583907f2e9906b               NaN  \n",
       "ffff82501cea40309d5fdd7edcca4a07               NaN  \n",
       "\n",
       "[16990 rows x 11 columns]"
      ]
     },
     "execution_count": 3,
     "metadata": {},
     "output_type": "execute_result"
    }
   ],
   "source": [
    "# Create user-by-item matrix\n",
    "user_items = df_mab[['member_id', 'offer_name', 'performance','time']].copy()\n",
    "user_by_offer = user_items.groupby(['member_id', 'offer_name'])['performance'].mean().round(2).unstack()\n",
    "user_by_offer"
   ]
  },
  {
   "cell_type": "code",
   "execution_count": 4,
   "id": "fd2543e2",
   "metadata": {},
   "outputs": [
    {
     "name": "stdout",
     "output_type": "stream",
     "text": [
      "The number of actual ratings in the user_by_offer is 64465.\n",
      "\n",
      "The number of ratings made for user-offer pairs that didn't have ratings is 122425.\n"
     ]
    }
   ],
   "source": [
    "# How many actual ratings exist in first_1000_users\n",
    "num_ratings = np.count_nonzero(~np.isnan(user_by_offer))\n",
    "print('The number of actual ratings in the user_by_offer is {}.'.format(num_ratings))\n",
    "print()\n",
    "\n",
    "# How many ratings did we make for user-offer pairs that didn't have ratings\n",
    "ratings_for_missing = user_by_offer.shape[0]*user_by_offer.shape[1] - num_ratings\n",
    "print(\"The number of ratings made for user-offer pairs that didn't have ratings is {}.\".format(ratings_for_missing))"
   ]
  },
  {
   "cell_type": "code",
   "execution_count": 5,
   "id": "93821b6a",
   "metadata": {},
   "outputs": [],
   "source": [
    "#Create Ratings Matrix\n",
    "ratings_mat = np.matrix(user_by_offer)"
   ]
  },
  {
   "cell_type": "code",
   "execution_count": 6,
   "id": "a196ed02",
   "metadata": {},
   "outputs": [],
   "source": [
    "def FunkSVD(ratings_mat, latent_features=4, learning_rate=0.0001, iters=100):\n",
    "    '''\n",
    "    This function performs matrix factorization using a basic form of FunkSVD with no regularization\n",
    "    \n",
    "    INPUT:\n",
    "    ratings_mat - (numpy array) a matrix with users as rows, movies as columns, and ratings as values\n",
    "    latent_features - (int) the number of latent features used\n",
    "    learning_rate - (float) the learning rate \n",
    "    iters - (int) the number of iterations\n",
    "    \n",
    "    OUTPUT:\n",
    "    user_mat - (numpy array) a user by latent feature matrix\n",
    "    movie_mat - (numpy array) a latent feature by movie matrix\n",
    "    '''\n",
    "    \n",
    "    # Set up useful values to be used through the rest of the function\n",
    "    n_users = ratings_mat.shape[0]\n",
    "    n_offers = ratings_mat.shape[1]\n",
    "    num_ratings = np.count_nonzero(~np.isnan(ratings_mat))\n",
    "    \n",
    "    # initialize the user and offer matrices with random values\n",
    "    user_mat = np.random.rand(n_users, latent_features)\n",
    "    offer_mat = np.random.rand(latent_features, n_offers)\n",
    "    \n",
    "    # initialize sse at 0 for first iteration\n",
    "    sse_accum = 0\n",
    "    \n",
    "    # header for running results\n",
    "    print('Optimizaiton Statistics')\n",
    "    print('Iterations | Mean Squared Error ')\n",
    "    \n",
    "    # for each iteration\n",
    "    for iteration in range(iters):\n",
    "\n",
    "        # update our sse\n",
    "        old_sse = sse_accum\n",
    "        sse_accum = 0\n",
    "        \n",
    "        # For each user-offer pair\n",
    "        for i in range(n_users):\n",
    "            for j in range(n_offers):\n",
    "                \n",
    "                # if the rating exists\n",
    "                if ratings_mat[i, j] > 0:\n",
    "                    \n",
    "                    # compute the error as the actual minus the dot product of the user and offer latent features\n",
    "                    diff = ratings_mat[i, j] - np.dot(user_mat[i, :], offer_mat[:, j])\n",
    "                    \n",
    "                    # Keep track of the sum of squared errors for the matrix\n",
    "                    sse_accum += diff**2\n",
    "                    \n",
    "                    # update the values in each matrix in the direction of the gradient\n",
    "                    for k in range(latent_features):\n",
    "                        user_mat[i, k] += learning_rate * (2*diff*offer_mat[k, j])\n",
    "                        offer_mat[k, j] += learning_rate * (2*diff*user_mat[i, k])\n",
    "\n",
    "        # print results for iteration\n",
    "        print('%d \\t\\t %f' % (iteration+1, sse_accum / num_ratings))\n",
    "        \n",
    "    return user_mat, offer_mat "
   ]
  },
  {
   "cell_type": "code",
   "execution_count": 7,
   "id": "952b19e1",
   "metadata": {
    "scrolled": true
   },
   "outputs": [
    {
     "name": "stdout",
     "output_type": "stream",
     "text": [
      "Optimizaiton Statistics\n",
      "Iterations | Mean Squared Error \n",
      "1 \t\t 1.139377\n",
      "2 \t\t 1.074244\n",
      "3 \t\t 1.025470\n",
      "4 \t\t 0.981576\n",
      "5 \t\t 0.942040\n",
      "6 \t\t 0.906343\n",
      "7 \t\t 0.873983\n",
      "8 \t\t 0.844480\n",
      "9 \t\t 0.817374\n",
      "10 \t\t 0.792221\n",
      "11 \t\t 0.768587\n",
      "12 \t\t 0.746050\n",
      "13 \t\t 0.724192\n",
      "14 \t\t 0.702606\n",
      "15 \t\t 0.680896\n",
      "16 \t\t 0.658691\n",
      "17 \t\t 0.635655\n",
      "18 \t\t 0.611509\n",
      "19 \t\t 0.586049\n",
      "20 \t\t 0.559176\n",
      "21 \t\t 0.530905\n",
      "22 \t\t 0.501385\n",
      "23 \t\t 0.470890\n",
      "24 \t\t 0.439805\n",
      "25 \t\t 0.408590\n",
      "26 \t\t 0.377740\n",
      "27 \t\t 0.347733\n",
      "28 \t\t 0.318989\n",
      "29 \t\t 0.291841\n",
      "30 \t\t 0.266525\n"
     ]
    }
   ],
   "source": [
    "user_mat, offer_mat = FunkSVD(ratings_mat, latent_features=10, learning_rate=0.005, iters=30)"
   ]
  },
  {
   "cell_type": "code",
   "execution_count": 8,
   "id": "cf4cc4fa",
   "metadata": {},
   "outputs": [
    {
     "name": "stdout",
     "output_type": "stream",
     "text": [
      "[[ 2.15  2.37  2.11 ...  2.55  1.18  1.58]\n",
      " [ 1.61  1.79  2.1  ... -0.23  0.92  0.92]\n",
      " [ 2.13  2.85  3.09 ...  0.8   0.79  1.11]\n",
      " ...\n",
      " [ 1.31  1.11  1.34 ...  1.31  1.94  1.13]\n",
      " [ 2.36  0.1   0.18 ...  3.24  4.07  1.86]\n",
      " [ 2.22  2.14  1.94 ...  1.42  2.26  0.29]]\n",
      "[[2.5   nan  nan ...  nan 2.   2.  ]\n",
      " [1.67  nan  nan ...  nan  nan  nan]\n",
      " [1.67  nan  nan ... 1.   1.   1.  ]\n",
      " ...\n",
      " [1.8  1.    nan ...  nan  nan  nan]\n",
      " [2.44  nan  nan ...  nan 4.    nan]\n",
      " [3.12  nan  nan ...  nan  nan  nan]]\n"
     ]
    }
   ],
   "source": [
    "print(np.dot(user_mat, offer_mat).round(2))\n",
    "print(ratings_mat)"
   ]
  },
  {
   "cell_type": "code",
   "execution_count": 9,
   "id": "41d31135",
   "metadata": {},
   "outputs": [],
   "source": [
    "df_cluster = pd.DataFrame(data=np.dot(user_mat, offer_mat).round(2), \n",
    "                  index=user_by_offer.index,\n",
    "                  columns=user_by_offer.columns) \n",
    "df_cluster.columns.name = None"
   ]
  },
  {
   "cell_type": "markdown",
   "id": "40a6141c",
   "metadata": {},
   "source": [
    "## 3 K-Means Clustering<a class=\"anchor\" id=\"3-bullet\"></a>"
   ]
  },
  {
   "cell_type": "code",
   "execution_count": 10,
   "id": "e4620979",
   "metadata": {},
   "outputs": [
    {
     "name": "stdout",
     "output_type": "stream",
     "text": [
      "Merge completed\n"
     ]
    }
   ],
   "source": [
    "pd.set_option('display.max_columns', None)\n",
    "df = df_member[['member_id','nr_purch','amount_median','amount_std','compl_offers','nr_NUO','days_reg']].copy()\n",
    "df['nr_NUO'] = df['nr_NUO'].fillna(0)\n",
    "df['amount_std'] = df['amount_std'].fillna(0)\n",
    "# Including users' income features\n",
    "if not 'nr_purch' in df_cluster.columns:\n",
    "    df_cluster = pd.merge(df_cluster, df, on = 'member_id', how='inner')\n",
    "    print('Merge completed')\n",
    "df_cluster.set_index('member_id', inplace=True)\n",
    "df_cluster.drop(['No_offer','info_df0_rw0_du3','info_df0_rw0_du4'], axis=1, inplace=True)"
   ]
  },
  {
   "cell_type": "code",
   "execution_count": 11,
   "id": "b004ca0f",
   "metadata": {
    "scrolled": true
   },
   "outputs": [],
   "source": [
    "#Replace Outliers with next max/min value\n",
    "for column in df_cluster:\n",
    "    median = df_cluster[column].median()\n",
    "    std = df_cluster[column].std()\n",
    "    outliers = (df_cluster[column] - median).abs() > std\n",
    "    mi = df_cluster[column][outliers==False].min()\n",
    "    ma = df_cluster[column][outliers==False].max()\n",
    "    df_cluster[column] = np.where(df_cluster[column]> ma,ma,df_cluster[column])\n",
    "    df_cluster[column] = np.where(df_cluster[column]< mi,mi,df_cluster[column])"
   ]
  },
  {
   "cell_type": "code",
   "execution_count": 12,
   "id": "d648834c",
   "metadata": {},
   "outputs": [
    {
     "name": "stdout",
     "output_type": "stream",
     "text": [
      "Running analysis on fold 0\n",
      "Running analysis on fold 1\n",
      "Running analysis on fold 2\n",
      "Running analysis on fold 3\n",
      "Running analysis on fold 4\n"
     ]
    }
   ],
   "source": [
    "n_folds = 5\n",
    "ss = ShuffleSplit(n_splits=n_folds, train_size=.75, test_size=.2, random_state=0)\n",
    "silhouette_avg = list()\n",
    "arr_n_clusters = np.arange(2, 10, 1)\n",
    "X = df_cluster.values\n",
    "df_silhouette_avg = pd.DataFrame(columns = ['fold', 'n_cluster', 'train_silhouette', 'test_silhouette'])\n",
    "trained_models = list()\n",
    "\n",
    "for fold, [train_index, val_index] in enumerate(ss.split(X)):\n",
    "    \n",
    "    print ('Running analysis on fold {}'.format(fold))\n",
    "    X_train, X_val = X[train_index], X[val_index]\n",
    "    \n",
    "    for n_cluster in arr_n_clusters:        \n",
    "        model = KMeans(n_clusters=n_cluster, random_state=0)\n",
    "        \n",
    "        model.fit(X_train)\n",
    "        train_silhouette = silhouette_score(X_train, model.predict(X_train))\n",
    "        val_silhouette = silhouette_score(X_val, model.predict(X_val))\n",
    "\n",
    "        row = [fold, n_cluster, train_silhouette, val_silhouette]\n",
    "        df_silhouette_avg.loc[df_silhouette_avg.shape[0]] = row "
   ]
  },
  {
   "cell_type": "code",
   "execution_count": 13,
   "id": "73970243",
   "metadata": {},
   "outputs": [
    {
     "data": {
      "text/plain": [
       "Text(0, 0.5, 'Silhouette Score')"
      ]
     },
     "execution_count": 13,
     "metadata": {},
     "output_type": "execute_result"
    },
    {
     "data": {
      "image/png": "[encoded data removed]",
      "text/plain": [
       "<Figure size 648x360 with 1 Axes>"
      ]
     },
     "metadata": {
      "needs_background": "light"
     },
     "output_type": "display_data"
    }
   ],
   "source": [
    "fig, ax = plt.subplots(nrows=1, ncols=1, figsize=(9,5))\n",
    "df_plot = df_silhouette_avg.groupby('n_cluster')\n",
    "for i, set_label in enumerate(['train', 'test']):\n",
    "    ax.errorbar(df_plot.mean().index,                 df_plot.mean()[set_label + '_silhouette'].values, \n",
    "                df_plot.std()[set_label + '_silhouette'].values, label=set_label.title(),\n",
    "               marker='o', mec='black')\n",
    "ax.set_xticks(arr_n_clusters), ax.set_xticklabels(arr_n_clusters)\n",
    "\n",
    "ax.grid(True, color='lightgray')\n",
    "ax.legend()\n",
    "ax.set_xlabel('Number of Clusters')\n",
    "ax.set_ylabel('Silhouette Score')"
   ]
  },
  {
   "cell_type": "markdown",
   "id": "6d405620",
   "metadata": {},
   "source": [
    "Considering the silhouette score, a proper number of clusters would be 4."
   ]
  },
  {
   "cell_type": "markdown",
   "id": "62547bc8",
   "metadata": {},
   "source": [
    "### Final K-means Cluster"
   ]
  },
  {
   "cell_type": "code",
   "execution_count": 14,
   "id": "12da7bf5",
   "metadata": {},
   "outputs": [
    {
     "data": {
      "text/plain": [
       "KMeans(n_clusters=4, random_state=0, verbose=False)"
      ]
     },
     "execution_count": 14,
     "metadata": {},
     "output_type": "execute_result"
    }
   ],
   "source": [
    "n_clusters = 4\n",
    "model = KMeans(n_clusters=n_clusters, random_state=0, verbose=False)\n",
    "model.fit(X)"
   ]
  },
  {
   "cell_type": "code",
   "execution_count": 15,
   "id": "f70df792",
   "metadata": {
    "scrolled": true
   },
   "outputs": [
    {
     "data": {
      "text/html": [
       "<div>\n",
       "<style scoped>\n",
       "    .dataframe tbody tr th:only-of-type {\n",
       "        vertical-align: middle;\n",
       "    }\n",
       "\n",
       "    .dataframe tbody tr th {\n",
       "        vertical-align: top;\n",
       "    }\n",
       "\n",
       "    .dataframe thead th {\n",
       "        text-align: right;\n",
       "    }\n",
       "</style>\n",
       "<table border=\"1\" class=\"dataframe\">\n",
       "  <thead>\n",
       "    <tr style=\"text-align: right;\">\n",
       "      <th></th>\n",
       "      <th>bogo_df10_rw10_du5</th>\n",
       "      <th>bogo_df10_rw10_du7</th>\n",
       "      <th>bogo_df5_rw5_du5</th>\n",
       "      <th>bogo_df5_rw5_du7</th>\n",
       "      <th>disc_df10_rw2_du10</th>\n",
       "      <th>disc_df10_rw2_du7</th>\n",
       "      <th>disc_df20_rw5_du10</th>\n",
       "      <th>disc_df7_rw3_du7</th>\n",
       "    </tr>\n",
       "    <tr>\n",
       "      <th>cluster</th>\n",
       "      <th></th>\n",
       "      <th></th>\n",
       "      <th></th>\n",
       "      <th></th>\n",
       "      <th></th>\n",
       "      <th></th>\n",
       "      <th></th>\n",
       "      <th></th>\n",
       "    </tr>\n",
       "  </thead>\n",
       "  <tbody>\n",
       "    <tr>\n",
       "      <th>0</th>\n",
       "      <td>1.649841</td>\n",
       "      <td>1.700102</td>\n",
       "      <td>1.836416</td>\n",
       "      <td>1.942952</td>\n",
       "      <td>2.288169</td>\n",
       "      <td>2.013917</td>\n",
       "      <td>2.021862</td>\n",
       "      <td>2.361536</td>\n",
       "    </tr>\n",
       "    <tr>\n",
       "      <th>1</th>\n",
       "      <td>1.486259</td>\n",
       "      <td>1.538054</td>\n",
       "      <td>1.623564</td>\n",
       "      <td>1.753984</td>\n",
       "      <td>2.043124</td>\n",
       "      <td>1.818019</td>\n",
       "      <td>1.821579</td>\n",
       "      <td>2.061733</td>\n",
       "    </tr>\n",
       "    <tr>\n",
       "      <th>2</th>\n",
       "      <td>1.687759</td>\n",
       "      <td>1.740170</td>\n",
       "      <td>1.845693</td>\n",
       "      <td>1.923072</td>\n",
       "      <td>2.284660</td>\n",
       "      <td>2.000671</td>\n",
       "      <td>2.036516</td>\n",
       "      <td>2.356811</td>\n",
       "    </tr>\n",
       "    <tr>\n",
       "      <th>3</th>\n",
       "      <td>1.345699</td>\n",
       "      <td>1.419655</td>\n",
       "      <td>1.500539</td>\n",
       "      <td>1.655674</td>\n",
       "      <td>1.871059</td>\n",
       "      <td>1.674865</td>\n",
       "      <td>1.658344</td>\n",
       "      <td>1.898647</td>\n",
       "    </tr>\n",
       "  </tbody>\n",
       "</table>\n",
       "</div>"
      ],
      "text/plain": [
       "         bogo_df10_rw10_du5  bogo_df10_rw10_du7  bogo_df5_rw5_du5  \\\n",
       "cluster                                                             \n",
       "0                  1.649841            1.700102          1.836416   \n",
       "1                  1.486259            1.538054          1.623564   \n",
       "2                  1.687759            1.740170          1.845693   \n",
       "3                  1.345699            1.419655          1.500539   \n",
       "\n",
       "         bogo_df5_rw5_du7  disc_df10_rw2_du10  disc_df10_rw2_du7  \\\n",
       "cluster                                                            \n",
       "0                1.942952            2.288169           2.013917   \n",
       "1                1.753984            2.043124           1.818019   \n",
       "2                1.923072            2.284660           2.000671   \n",
       "3                1.655674            1.871059           1.674865   \n",
       "\n",
       "         disc_df20_rw5_du10  disc_df7_rw3_du7  \n",
       "cluster                                        \n",
       "0                  2.021862          2.361536  \n",
       "1                  1.821579          2.061733  \n",
       "2                  2.036516          2.356811  \n",
       "3                  1.658344          1.898647  "
      ]
     },
     "execution_count": 15,
     "metadata": {},
     "output_type": "execute_result"
    }
   ],
   "source": [
    "df_clusters_rewards = pd.DataFrame(model.cluster_centers_)\n",
    "df_clusters_rewards.columns = df_cluster.columns\n",
    "df_clusters_rewards = df_clusters_rewards.reset_index(drop=False).rename({'index': 'cluster'},axis=1).set_index('cluster')\n",
    "df_clusters_rewards.drop(['nr_purch','amount_median','amount_std','compl_offers','nr_NUO','days_reg'], axis=1, inplace=True)\n",
    "df_clusters_rewards"
   ]
  },
  {
   "cell_type": "code",
   "execution_count": 16,
   "id": "6ecf2c0b",
   "metadata": {},
   "outputs": [
    {
     "data": {
      "text/plain": [
       "0    5670\n",
       "1    5072\n",
       "3    3603\n",
       "2    2233\n",
       "Name: cluster, dtype: int64"
      ]
     },
     "execution_count": 16,
     "metadata": {},
     "output_type": "execute_result"
    }
   ],
   "source": [
    "df_cluster['cluster'] = model.labels_\n",
    "df_cluster['cluster'].value_counts()"
   ]
  },
  {
   "cell_type": "markdown",
   "id": "6528c8a8",
   "metadata": {},
   "source": [
    "## 4 Multi Armed Bandit<a class=\"anchor\" id=\"4-bullet\"></a>"
   ]
  },
  {
   "cell_type": "markdown",
   "id": "31fe2683",
   "metadata": {},
   "source": [
    "Now that we have the mean reward for each cluster, we can model them as a multi-armed bandit (MAB). Each cluster shall be considered as a MAB and each product is an arm to be pulled.\n",
    "\n",
    "Many algorithms have been proposed as a MAB. For this project, we will use the -greedy-decay algorithm because we want to explore in the begining and then slowly start exploiting the most rewarding arms.\n",
    "\n",
    "However, a slight modification has been made to the algorithm. Since there are few products and we don't want users to always receive the same recommendation, a threshold  has been set to guarantee a minimum exploration when the optimization converges. In other words, the  parameter starts with a high value and, as the epochs continue, it keeps decreasing until it reaches a threshold where it remains with a fixed value."
   ]
  },
  {
   "cell_type": "markdown",
   "id": "80e12680",
   "metadata": {},
   "source": [
    "### 4.1 MAB Simulation <a class=\"anchor\" id=\"4.1-bullet\"></a>"
   ]
  },
  {
   "cell_type": "code",
   "execution_count": 17,
   "id": "88320875",
   "metadata": {},
   "outputs": [
    {
     "name": "stdout",
     "output_type": "stream",
     "text": [
      "Starting MAB Experiment\n"
     ]
    },
    {
     "name": "stderr",
     "output_type": "stream",
     "text": [
      "100%|██████████| 20/20 [00:07<00:00,  2.84it/s]"
     ]
    },
    {
     "name": "stdout",
     "output_type": "stream",
     "text": [
      "CPU times: total: 7.61 s\n",
      "Wall time: 7.13 s\n"
     ]
    },
    {
     "name": "stderr",
     "output_type": "stream",
     "text": [
      "\n"
     ]
    }
   ],
   "source": [
    "%%time\n",
    "\n",
    "T = 3000\n",
    "realizations = 20 #20*7Cluster = 140\n",
    "epsilon = 0.3\n",
    "beta = 0.001\n",
    "print ('Starting MAB Experiment')\n",
    "\n",
    "mean_reward_hist = pd.DataFrame(columns=[i for i in np.arange(T+1)] + ['realization'])\n",
    "\n",
    "for realization in tqdm(np.arange(realizations)):\n",
    "    last_reward = np.zeros(n_clusters)\n",
    "    bandits = [EGreedyDecay(epsilon=epsilon, beta=beta) for _ in np.arange(n_clusters)]\n",
    "    for i in np.arange(n_clusters):\n",
    "        bandits[i].set_rewards(df_clusters_rewards.loc[i])\n",
    "\n",
    "    temp_mean_reward_hist = dict()\n",
    "    for cluster in np.arange(n_clusters):\n",
    "        temp_mean_reward_hist[cluster] = []\n",
    "\n",
    "    for t in range(1,T):\n",
    "        for cluster in np.arange(n_clusters):\n",
    "            item = bandits[cluster].pull_arm(last_reward[cluster]) \n",
    "            last_reward[cluster] = bandits[cluster].get_reward(item) \n",
    "            temp_mean_reward_hist[cluster].append(bandits[cluster].mean_reward)\n",
    "\n",
    "    temp_mean_reward_hist = pd.DataFrame(temp_mean_reward_hist).T\n",
    "    temp_mean_reward_hist['realization'] = realization\n",
    "    mean_reward_hist = pd.concat([mean_reward_hist, temp_mean_reward_hist], sort=False)\n",
    "    \n",
    "mean_reward_hist = mean_reward_hist.reset_index(drop=False).rename({'index': 'cluster'}, axis=1)"
   ]
  },
  {
   "cell_type": "code",
   "execution_count": 18,
   "id": "f1f342c6",
   "metadata": {
    "scrolled": false
   },
   "outputs": [
    {
     "data": {
      "image/png": "[encoded data removed]",
      "text/plain": [
       "<Figure size 1152x576 with 1 Axes>"
      ]
     },
     "metadata": {
      "needs_background": "light"
     },
     "output_type": "display_data"
    }
   ],
   "source": [
    "second_palette = ['#60489D', '#46BB93', '#F9B74D', '#2D2D2D', '#9F1253', '#559EE1', '#EE8348', '#A9A8A8', '#56DCE3', '#4260AD']\n",
    "\n",
    "fig, ax = plt.subplots(figsize=(16,8))\n",
    "df_plot_mean = mean_reward_hist.iloc[:,0:-3].groupby(['cluster']).mean()\n",
    "df_plot_std = mean_reward_hist.iloc[:,0:-3].groupby(['cluster']).std()\n",
    "for cluster in np.arange(n_clusters):\n",
    "    ax.plot(df_plot_mean.iloc[cluster], \n",
    "            label = 'Cluster ' + str(cluster), \n",
    "            color=second_palette[cluster], alpha=1)\n",
    "    \n",
    "    ax.errorbar(df_plot_mean.columns,\n",
    "                df_plot_mean.iloc[cluster],                \n",
    "                df_plot_std.iloc[cluster], \n",
    "           color=second_palette[cluster], \n",
    "               alpha=.02, label=None)\n",
    "    \n",
    "    ax.scatter(x=[T], y=[np.array(df_plot_mean.loc[cluster])[-1]], \n",
    "               color=second_palette[cluster], label=None)\n",
    "    \n",
    "ax.set_xlabel('Epoch'), ax.set_ylabel('Mean Average Reward')\n",
    "ax.legend()\n",
    "ax.grid(True, color='lightgray')"
   ]
  },
  {
   "cell_type": "code",
   "execution_count": 19,
   "id": "a23bb589",
   "metadata": {},
   "outputs": [
    {
     "data": {
      "image/png": "[encoded data removed]",
      "text/plain": [
       "<Figure size 576x72 with 1 Axes>"
      ]
     },
     "metadata": {
      "needs_background": "light"
     },
     "output_type": "display_data"
    }
   ],
   "source": [
    "palette = 'lightblue'\n",
    "sns_palette = sns.dark_palette(palette, n_colors=8)\n",
    "sns.palplot(sns_palette)\n",
    "sns.set_palette(sns_palette)\n",
    "sns.set(font_scale=1.2)"
   ]
  },
  {
   "cell_type": "code",
   "execution_count": 20,
   "id": "ea852872",
   "metadata": {},
   "outputs": [
    {
     "name": "stdout",
     "output_type": "stream",
     "text": [
      "4 [ 191.  206.  175.  154. 1755.  174.  163.  181.]\n",
      "5 [ 186.  251.  253.  164.  181. 1616.  192.  156.]\n",
      "7 [ 166.  174.  176.  154.  161.  173.  176. 1819.]\n",
      "4 [ 198.  185.  184.  190. 1698.  202.  163.  179.]\n"
     ]
    },
    {
     "data": {
      "text/plain": [
       "Text(0.5, 1.0, '#picks for each offer')"
      ]
     },
     "execution_count": 20,
     "metadata": {},
     "output_type": "execute_result"
    },
    {
     "data": {
      "image/png": "[encoded data removed]",
      "text/plain": [
       "<Figure size 720x576 with 2 Axes>"
      ]
     },
     "metadata": {},
     "output_type": "display_data"
    }
   ],
   "source": [
    "picks = np.zeros([n_clusters, bandits[0].k])\n",
    "for cluster, bandit in enumerate(bandits):\n",
    "    picks[cluster] = bandit.k_n\n",
    "    print (np.argmax(bandit.k_n), bandit.k_n)\n",
    "\n",
    "fig, ax = plt.subplots(figsize=(10,8))\n",
    "sns.heatmap(picks.T, ax=ax, cmap=sns.light_palette(palette, n_colors=20))\n",
    "ax.set_xlabel('Clusters')\n",
    "ax.set_yticklabels([product for product in df_clusters_rewards.columns], rotation = 0)\n",
    "ax.collections[0].colorbar.set_label('     #picks', rotation=0)\n",
    "ax.set_title('#picks for each offer')\n"
   ]
  },
  {
   "cell_type": "markdown",
   "id": "50d29f93",
   "metadata": {},
   "source": [
    "### 4.2 MAB Test<a class=\"anchor\" id=\"4.2-bullet\"></a>"
   ]
  },
  {
   "cell_type": "code",
   "execution_count": 21,
   "id": "cc3cde52",
   "metadata": {},
   "outputs": [
    {
     "name": "stdout",
     "output_type": "stream",
     "text": [
      "Data Uploaded\n"
     ]
    }
   ],
   "source": [
    "import joblib\n",
    "import pickle\n",
    "\n",
    "data_dir = '../data/'\n",
    "#with open(os.path.join(data_dir, os.path.join(data_dir, 'trained_svd.pkl')), 'wb') as file: \n",
    "#    pickle.dump(svd, file)\n",
    "\n",
    "with open(os.path.join(data_dir, os.path.join(data_dir, 'trained_kmeans.pkl')), 'wb') as file: \n",
    "    pickle.dump(model, file)\n",
    "\n",
    "for cluster, bandit in enumerate(bandits):\n",
    "    joblib.dump(bandit, os.path.join(data_dir,  'trained_{}_cluster_{}.joblib'.format(str(bandit), cluster)))\n",
    "    with open(os.path.join(data_dir,  'trained_{}_cluster_{}.pkl'.format(str(bandit), cluster)), 'wb') as file: \n",
    "        pickle.dump(bandit, file)\n",
    "#session.upload_data(path=data_dir, bucket=bucket, key_prefix=prefix)\n",
    "print ('Data Uploaded')"
   ]
  },
  {
   "cell_type": "code",
   "execution_count": 22,
   "id": "0c90817d",
   "metadata": {},
   "outputs": [
    {
     "name": "stdout",
     "output_type": "stream",
     "text": [
      "96335586a1a645e8918f6810a1fc1375\n"
     ]
    }
   ],
   "source": [
    "#Select a random customer\n",
    "customer = df_cluster.sample().index\n",
    "print(customer[0])"
   ]
  },
  {
   "cell_type": "code",
   "execution_count": 23,
   "id": "eb8f6290",
   "metadata": {},
   "outputs": [
    {
     "name": "stdout",
     "output_type": "stream",
     "text": [
      "Member cluster:  0\n"
     ]
    }
   ],
   "source": [
    "#identify cluster of customer\n",
    "cluster = df_cluster[df_cluster.index==customer[0]].iloc[:,-1][-1]\n",
    "print('Member cluster: ', cluster)"
   ]
  },
  {
   "cell_type": "code",
   "execution_count": 28,
   "id": "0eeecbb5",
   "metadata": {},
   "outputs": [],
   "source": [
    "with open('../data/trained_EGreedyDecay_cluster_{}.pkl'.format(cluster), 'rb') as f:\n",
    "    data = pickle.load(f)"
   ]
  },
  {
   "cell_type": "code",
   "execution_count": 29,
   "id": "6969a76d",
   "metadata": {},
   "outputs": [
    {
     "name": "stdout",
     "output_type": "stream",
     "text": [
      "disc_df10_rw2_du10\n",
      "disc_df10_rw2_du10\n",
      "disc_df10_rw2_du10\n",
      "disc_df20_rw5_du10\n",
      "disc_df10_rw2_du10\n",
      "bogo_df5_rw5_du7\n",
      "disc_df10_rw2_du7\n",
      "disc_df20_rw5_du10\n",
      "bogo_df5_rw5_du7\n",
      "disc_df10_rw2_du10\n"
     ]
    }
   ],
   "source": [
    "#Print first 10 offers for customer\n",
    "for i in range(10):\n",
    "    print(data.pull_arm(i))"
   ]
  }
 ],
 "metadata": {
  "kernelspec": {
   "display_name": "Python 3 (ipykernel)",
   "language": "python",
   "name": "python3"
  },
  "language_info": {
   "codemirror_mode": {
    "name": "ipython",
    "version": 3
   },
   "file_extension": ".py",
   "mimetype": "text/x-python",
   "name": "python",
   "nbconvert_exporter": "python",
   "pygments_lexer": "ipython3",
   "version": "3.9.12"
  }
 },
 "nbformat": 4,
 "nbformat_minor": 5
}
